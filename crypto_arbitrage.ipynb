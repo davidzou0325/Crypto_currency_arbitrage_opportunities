{
 "cells": [
  {
   "cell_type": "markdown",
   "metadata": {},
   "source": [
    "## Crypto Arbitrage\n",
    "\n",
    "In this Challenge, you'll take on the role of an analyst at a high-tech investment firm. The vice president (VP) of your department is considering arbitrage opportunities in Bitcoin and other cryptocurrencies. As Bitcoin trades on markets across the globe, can you capitalize on simultaneous price dislocations in those markets by using the powers of Pandas?\n",
    "\n",
    "For this assignment, you’ll sort through historical trade data for Bitcoin on two exchanges: Bitstamp and Coinbase. Your task is to apply the three phases of financial analysis to determine if any arbitrage opportunities exist for Bitcoin.\n",
    "\n",
    "This aspect of the Challenge will consist of 3 phases.\n",
    "\n",
    "1. Collect the data.\n",
    "\n",
    "2. Prepare the data.\n",
    "\n",
    "3. Analyze the data. \n",
    "\n"
   ]
  },
  {
   "cell_type": "markdown",
   "metadata": {},
   "source": [
    "###  Import the required libraries and dependencies."
   ]
  },
  {
   "cell_type": "code",
   "execution_count": 1,
   "metadata": {},
   "outputs": [],
   "source": [
    "import pandas as pd\n",
    "from pathlib import Path\n",
    "%matplotlib inline\n"
   ]
  },
  {
   "cell_type": "markdown",
   "metadata": {},
   "source": [
    "## Collect the Data\n",
    "\n",
    "To collect the data that you’ll need, complete the following steps:\n",
    "\n",
    "Instructions. \n",
    "\n",
    "1. Using the Pandas `read_csv` function and the `Path` module, import the data from `bitstamp.csv` file, and create a DataFrame called `bitstamp`. Set the DatetimeIndex as the Timestamp column, and be sure to parse and format the dates.\n",
    "\n",
    "2. Use the `head` (and/or the `tail`) function to confirm that Pandas properly imported the data.\n",
    "\n",
    "3. Repeat Steps 1 and 2 for `coinbase.csv` file."
   ]
  },
  {
   "cell_type": "markdown",
   "metadata": {},
   "source": [
    "### Step 1: Using the Pandas `read_csv` function and the `Path` module, import the data from `bitstamp.csv` file, and create a DataFrame called `bitstamp`. Set the DatetimeIndex as the Timestamp column, and be sure to parse and format the dates."
   ]
  },
  {
   "cell_type": "code",
   "execution_count": 2,
   "metadata": {},
   "outputs": [],
   "source": [
    "# Read in the CSV file called \"bitstamp.csv\" using the Path module. \n",
    "# The CSV file is located in the Resources folder.\n",
    "# Set the index to the column \"Date\"\n",
    "# Set the parse_dates and infer_datetime_format parameters\n",
    "csvpath = Path(\"./Resources/bitstamp.csv\")\n",
    "bitstamp = pd.read_csv(csvpath,\n",
    "            index_col = 'Timestamp',\n",
    "            parse_dates = True,\n",
    "            infer_datetime_format = True)\n",
    "\n"
   ]
  },
  {
   "cell_type": "markdown",
   "metadata": {},
   "source": [
    "### Step 2: Use the `head` (and/or the `tail`) function to confirm that Pandas properly imported the data."
   ]
  },
  {
   "cell_type": "code",
   "execution_count": 3,
   "metadata": {},
   "outputs": [
    {
     "data": {
      "text/html": [
       "<div>\n",
       "<style scoped>\n",
       "    .dataframe tbody tr th:only-of-type {\n",
       "        vertical-align: middle;\n",
       "    }\n",
       "\n",
       "    .dataframe tbody tr th {\n",
       "        vertical-align: top;\n",
       "    }\n",
       "\n",
       "    .dataframe thead th {\n",
       "        text-align: right;\n",
       "    }\n",
       "</style>\n",
       "<table border=\"1\" class=\"dataframe\">\n",
       "  <thead>\n",
       "    <tr style=\"text-align: right;\">\n",
       "      <th></th>\n",
       "      <th>Open</th>\n",
       "      <th>High</th>\n",
       "      <th>Low</th>\n",
       "      <th>Close</th>\n",
       "      <th>BTC Volume</th>\n",
       "      <th>USD Volume</th>\n",
       "      <th>Weighted Price</th>\n",
       "    </tr>\n",
       "    <tr>\n",
       "      <th>Timestamp</th>\n",
       "      <th></th>\n",
       "      <th></th>\n",
       "      <th></th>\n",
       "      <th></th>\n",
       "      <th></th>\n",
       "      <th></th>\n",
       "      <th></th>\n",
       "    </tr>\n",
       "  </thead>\n",
       "  <tbody>\n",
       "    <tr>\n",
       "      <th>2015-12-31 19:01:00</th>\n",
       "      <td>430.89</td>\n",
       "      <td>430.89</td>\n",
       "      <td>430.89</td>\n",
       "      <td>$430.89</td>\n",
       "      <td>0.080631</td>\n",
       "      <td>34.743096</td>\n",
       "      <td>430.890000</td>\n",
       "    </tr>\n",
       "    <tr>\n",
       "      <th>2015-12-31 19:02:00</th>\n",
       "      <td>430.89</td>\n",
       "      <td>430.89</td>\n",
       "      <td>430.89</td>\n",
       "      <td>$430.89</td>\n",
       "      <td>0.143257</td>\n",
       "      <td>61.728095</td>\n",
       "      <td>430.890000</td>\n",
       "    </tr>\n",
       "    <tr>\n",
       "      <th>2015-12-31 19:03:00</th>\n",
       "      <td>NaN</td>\n",
       "      <td>NaN</td>\n",
       "      <td>NaN</td>\n",
       "      <td>$nan</td>\n",
       "      <td>NaN</td>\n",
       "      <td>NaN</td>\n",
       "      <td>NaN</td>\n",
       "    </tr>\n",
       "    <tr>\n",
       "      <th>2015-12-31 19:04:00</th>\n",
       "      <td>430.19</td>\n",
       "      <td>431.06</td>\n",
       "      <td>430.19</td>\n",
       "      <td>$431.06</td>\n",
       "      <td>1.032161</td>\n",
       "      <td>444.627575</td>\n",
       "      <td>430.773269</td>\n",
       "    </tr>\n",
       "    <tr>\n",
       "      <th>2015-12-31 19:05:00</th>\n",
       "      <td>431.06</td>\n",
       "      <td>432.11</td>\n",
       "      <td>430.21</td>\n",
       "      <td>$430.54</td>\n",
       "      <td>5.558156</td>\n",
       "      <td>2397.461993</td>\n",
       "      <td>431.341280</td>\n",
       "    </tr>\n",
       "  </tbody>\n",
       "</table>\n",
       "</div>"
      ],
      "text/plain": [
       "                       Open    High     Low    Close  BTC Volume   USD Volume  \\\n",
       "Timestamp                                                                       \n",
       "2015-12-31 19:01:00  430.89  430.89  430.89  $430.89    0.080631    34.743096   \n",
       "2015-12-31 19:02:00  430.89  430.89  430.89  $430.89    0.143257    61.728095   \n",
       "2015-12-31 19:03:00     NaN     NaN     NaN     $nan         NaN          NaN   \n",
       "2015-12-31 19:04:00  430.19  431.06  430.19  $431.06    1.032161   444.627575   \n",
       "2015-12-31 19:05:00  431.06  432.11  430.21  $430.54    5.558156  2397.461993   \n",
       "\n",
       "                     Weighted Price  \n",
       "Timestamp                            \n",
       "2015-12-31 19:01:00      430.890000  \n",
       "2015-12-31 19:02:00      430.890000  \n",
       "2015-12-31 19:03:00             NaN  \n",
       "2015-12-31 19:04:00      430.773269  \n",
       "2015-12-31 19:05:00      431.341280  "
      ]
     },
     "execution_count": 3,
     "metadata": {},
     "output_type": "execute_result"
    }
   ],
   "source": [
    "# Use the head (and/or tail) function to confirm that the data was imported properly.\n",
    "bitstamp.head()"
   ]
  },
  {
   "cell_type": "markdown",
   "metadata": {},
   "source": [
    "### Step 3: Repeat Steps 1 and 2 for `coinbase.csv` file."
   ]
  },
  {
   "cell_type": "code",
   "execution_count": 4,
   "metadata": {},
   "outputs": [],
   "source": [
    "# Read in the CSV file called \"coinbase.csv\" using the Path module. \n",
    "# The CSV file is located in the Resources folder.\n",
    "# Set the index to the column \"Timestamp\"\n",
    "# Set the parse_dates and infer_datetime_format parameters\n",
    "coinbase_path = Path('./Resources/coinbase.csv')\n",
    "coinbase = pd.read_csv(coinbase_path,\n",
    "                      index_col = 'Timestamp',\n",
    "                      parse_dates = True,\n",
    "                      infer_datetime_format = True)\n"
   ]
  },
  {
   "cell_type": "code",
   "execution_count": 5,
   "metadata": {},
   "outputs": [
    {
     "data": {
      "text/html": [
       "<div>\n",
       "<style scoped>\n",
       "    .dataframe tbody tr th:only-of-type {\n",
       "        vertical-align: middle;\n",
       "    }\n",
       "\n",
       "    .dataframe tbody tr th {\n",
       "        vertical-align: top;\n",
       "    }\n",
       "\n",
       "    .dataframe thead th {\n",
       "        text-align: right;\n",
       "    }\n",
       "</style>\n",
       "<table border=\"1\" class=\"dataframe\">\n",
       "  <thead>\n",
       "    <tr style=\"text-align: right;\">\n",
       "      <th></th>\n",
       "      <th>Open</th>\n",
       "      <th>High</th>\n",
       "      <th>Low</th>\n",
       "      <th>Close</th>\n",
       "      <th>BTC Volume</th>\n",
       "      <th>USD Volume</th>\n",
       "      <th>Weighted Price</th>\n",
       "    </tr>\n",
       "    <tr>\n",
       "      <th>Timestamp</th>\n",
       "      <th></th>\n",
       "      <th></th>\n",
       "      <th></th>\n",
       "      <th></th>\n",
       "      <th></th>\n",
       "      <th></th>\n",
       "      <th></th>\n",
       "    </tr>\n",
       "  </thead>\n",
       "  <tbody>\n",
       "    <tr>\n",
       "      <th>2019-01-07 17:02:00</th>\n",
       "      <td>4006.01</td>\n",
       "      <td>4006.57</td>\n",
       "      <td>4006.00</td>\n",
       "      <td>$4006.01</td>\n",
       "      <td>3.382954</td>\n",
       "      <td>13553.433078</td>\n",
       "      <td>4006.390309</td>\n",
       "    </tr>\n",
       "    <tr>\n",
       "      <th>2019-01-07 17:03:00</th>\n",
       "      <td>4006.01</td>\n",
       "      <td>4006.57</td>\n",
       "      <td>4006.00</td>\n",
       "      <td>$4006.01</td>\n",
       "      <td>0.902164</td>\n",
       "      <td>3614.083169</td>\n",
       "      <td>4006.017233</td>\n",
       "    </tr>\n",
       "    <tr>\n",
       "      <th>2019-01-07 17:04:00</th>\n",
       "      <td>4006.01</td>\n",
       "      <td>4006.01</td>\n",
       "      <td>4006.00</td>\n",
       "      <td>$4006.01</td>\n",
       "      <td>1.192123</td>\n",
       "      <td>4775.647308</td>\n",
       "      <td>4006.003635</td>\n",
       "    </tr>\n",
       "    <tr>\n",
       "      <th>2019-01-07 17:05:00</th>\n",
       "      <td>4006.01</td>\n",
       "      <td>4006.01</td>\n",
       "      <td>4005.50</td>\n",
       "      <td>$4005.5</td>\n",
       "      <td>2.699700</td>\n",
       "      <td>10814.241898</td>\n",
       "      <td>4005.719991</td>\n",
       "    </tr>\n",
       "    <tr>\n",
       "      <th>2019-01-07 17:06:00</th>\n",
       "      <td>4005.51</td>\n",
       "      <td>4006.01</td>\n",
       "      <td>4005.51</td>\n",
       "      <td>$4005.99</td>\n",
       "      <td>1.752778</td>\n",
       "      <td>7021.183546</td>\n",
       "      <td>4005.745614</td>\n",
       "    </tr>\n",
       "  </tbody>\n",
       "</table>\n",
       "</div>"
      ],
      "text/plain": [
       "                        Open     High      Low     Close  BTC Volume  \\\n",
       "Timestamp                                                              \n",
       "2019-01-07 17:02:00  4006.01  4006.57  4006.00  $4006.01    3.382954   \n",
       "2019-01-07 17:03:00  4006.01  4006.57  4006.00  $4006.01    0.902164   \n",
       "2019-01-07 17:04:00  4006.01  4006.01  4006.00  $4006.01    1.192123   \n",
       "2019-01-07 17:05:00  4006.01  4006.01  4005.50   $4005.5    2.699700   \n",
       "2019-01-07 17:06:00  4005.51  4006.01  4005.51  $4005.99    1.752778   \n",
       "\n",
       "                       USD Volume  Weighted Price  \n",
       "Timestamp                                          \n",
       "2019-01-07 17:02:00  13553.433078     4006.390309  \n",
       "2019-01-07 17:03:00   3614.083169     4006.017233  \n",
       "2019-01-07 17:04:00   4775.647308     4006.003635  \n",
       "2019-01-07 17:05:00  10814.241898     4005.719991  \n",
       "2019-01-07 17:06:00   7021.183546     4005.745614  "
      ]
     },
     "execution_count": 5,
     "metadata": {},
     "output_type": "execute_result"
    }
   ],
   "source": [
    "# Use the head (and/or tail) function to confirm that the data was imported properly.\n",
    "coinbase.tail()\n"
   ]
  },
  {
   "cell_type": "markdown",
   "metadata": {},
   "source": [
    "## Prepare the Data\n",
    "\n",
    "To prepare and clean your data for analysis, complete the following steps:\n",
    "\n",
    "1. For the bitstamp DataFrame, replace or drop all `NaN`, or missing, values in the DataFrame.\n",
    "\n",
    "2. Use the `str.replace` function to remove the dollar signs ($) from the values in the Close column.\n",
    "\n",
    "3. Convert the data type of the Close column to a `float`.\n",
    "\n",
    "4. Review the data for duplicated values, and drop them if necessary.\n",
    "\n",
    "5. Repeat Steps 1–4 for the coinbase DataFrame."
   ]
  },
  {
   "cell_type": "markdown",
   "metadata": {},
   "source": [
    "### Step 1: For the bitstamp DataFrame, replace or drop all `NaN`, or missing, values in the DataFrame."
   ]
  },
  {
   "cell_type": "code",
   "execution_count": 6,
   "metadata": {},
   "outputs": [],
   "source": [
    "# For the bitstamp DataFrame, replace or drop all NaNs or missing values in the DataFrame\n",
    "bitstamp = bitstamp.dropna()"
   ]
  },
  {
   "cell_type": "code",
   "execution_count": 7,
   "metadata": {},
   "outputs": [
    {
     "data": {
      "text/plain": [
       "Open              0\n",
       "High              0\n",
       "Low               0\n",
       "Close             0\n",
       "BTC Volume        0\n",
       "USD Volume        0\n",
       "Weighted Price    0\n",
       "dtype: int64"
      ]
     },
     "execution_count": 7,
     "metadata": {},
     "output_type": "execute_result"
    }
   ],
   "source": [
    "bitstamp.isnull().sum()"
   ]
  },
  {
   "cell_type": "markdown",
   "metadata": {},
   "source": [
    "### Step 2: Use the `str.replace` function to remove the dollar signs ($) from the values in the Close column."
   ]
  },
  {
   "cell_type": "code",
   "execution_count": 8,
   "metadata": {},
   "outputs": [
    {
     "data": {
      "text/html": [
       "<div>\n",
       "<style scoped>\n",
       "    .dataframe tbody tr th:only-of-type {\n",
       "        vertical-align: middle;\n",
       "    }\n",
       "\n",
       "    .dataframe tbody tr th {\n",
       "        vertical-align: top;\n",
       "    }\n",
       "\n",
       "    .dataframe thead th {\n",
       "        text-align: right;\n",
       "    }\n",
       "</style>\n",
       "<table border=\"1\" class=\"dataframe\">\n",
       "  <thead>\n",
       "    <tr style=\"text-align: right;\">\n",
       "      <th></th>\n",
       "      <th>Open</th>\n",
       "      <th>High</th>\n",
       "      <th>Low</th>\n",
       "      <th>Close</th>\n",
       "      <th>BTC Volume</th>\n",
       "      <th>USD Volume</th>\n",
       "      <th>Weighted Price</th>\n",
       "    </tr>\n",
       "    <tr>\n",
       "      <th>Timestamp</th>\n",
       "      <th></th>\n",
       "      <th></th>\n",
       "      <th></th>\n",
       "      <th></th>\n",
       "      <th></th>\n",
       "      <th></th>\n",
       "      <th></th>\n",
       "    </tr>\n",
       "  </thead>\n",
       "  <tbody>\n",
       "    <tr>\n",
       "      <th>2015-12-31 19:01:00</th>\n",
       "      <td>430.89</td>\n",
       "      <td>430.89</td>\n",
       "      <td>430.89</td>\n",
       "      <td>430.89</td>\n",
       "      <td>0.080631</td>\n",
       "      <td>34.743096</td>\n",
       "      <td>430.890000</td>\n",
       "    </tr>\n",
       "    <tr>\n",
       "      <th>2015-12-31 19:02:00</th>\n",
       "      <td>430.89</td>\n",
       "      <td>430.89</td>\n",
       "      <td>430.89</td>\n",
       "      <td>430.89</td>\n",
       "      <td>0.143257</td>\n",
       "      <td>61.728095</td>\n",
       "      <td>430.890000</td>\n",
       "    </tr>\n",
       "    <tr>\n",
       "      <th>2015-12-31 19:04:00</th>\n",
       "      <td>430.19</td>\n",
       "      <td>431.06</td>\n",
       "      <td>430.19</td>\n",
       "      <td>431.06</td>\n",
       "      <td>1.032161</td>\n",
       "      <td>444.627575</td>\n",
       "      <td>430.773269</td>\n",
       "    </tr>\n",
       "    <tr>\n",
       "      <th>2015-12-31 19:05:00</th>\n",
       "      <td>431.06</td>\n",
       "      <td>432.11</td>\n",
       "      <td>430.21</td>\n",
       "      <td>430.54</td>\n",
       "      <td>5.558156</td>\n",
       "      <td>2397.461993</td>\n",
       "      <td>431.341280</td>\n",
       "    </tr>\n",
       "    <tr>\n",
       "      <th>2015-12-31 19:06:00</th>\n",
       "      <td>432.53</td>\n",
       "      <td>432.53</td>\n",
       "      <td>431.48</td>\n",
       "      <td>432.52</td>\n",
       "      <td>4.117318</td>\n",
       "      <td>1776.650476</td>\n",
       "      <td>431.506725</td>\n",
       "    </tr>\n",
       "  </tbody>\n",
       "</table>\n",
       "</div>"
      ],
      "text/plain": [
       "                       Open    High     Low   Close  BTC Volume   USD Volume  \\\n",
       "Timestamp                                                                      \n",
       "2015-12-31 19:01:00  430.89  430.89  430.89  430.89    0.080631    34.743096   \n",
       "2015-12-31 19:02:00  430.89  430.89  430.89  430.89    0.143257    61.728095   \n",
       "2015-12-31 19:04:00  430.19  431.06  430.19  431.06    1.032161   444.627575   \n",
       "2015-12-31 19:05:00  431.06  432.11  430.21  430.54    5.558156  2397.461993   \n",
       "2015-12-31 19:06:00  432.53  432.53  431.48  432.52    4.117318  1776.650476   \n",
       "\n",
       "                     Weighted Price  \n",
       "Timestamp                            \n",
       "2015-12-31 19:01:00      430.890000  \n",
       "2015-12-31 19:02:00      430.890000  \n",
       "2015-12-31 19:04:00      430.773269  \n",
       "2015-12-31 19:05:00      431.341280  \n",
       "2015-12-31 19:06:00      431.506725  "
      ]
     },
     "execution_count": 8,
     "metadata": {},
     "output_type": "execute_result"
    }
   ],
   "source": [
    "# Use the str.replace function to remove the dollar sign, $\n",
    "bitstamp.loc[: , \"Close\"] = bitstamp.loc[:, \"Close\"].str.replace(\"$\", \"\")\n",
    "bitstamp.head()\n"
   ]
  },
  {
   "cell_type": "markdown",
   "metadata": {},
   "source": [
    "### Step 3: Convert the data type of the Close column to a `float`."
   ]
  },
  {
   "cell_type": "code",
   "execution_count": 9,
   "metadata": {},
   "outputs": [
    {
     "data": {
      "text/html": [
       "<div>\n",
       "<style scoped>\n",
       "    .dataframe tbody tr th:only-of-type {\n",
       "        vertical-align: middle;\n",
       "    }\n",
       "\n",
       "    .dataframe tbody tr th {\n",
       "        vertical-align: top;\n",
       "    }\n",
       "\n",
       "    .dataframe thead th {\n",
       "        text-align: right;\n",
       "    }\n",
       "</style>\n",
       "<table border=\"1\" class=\"dataframe\">\n",
       "  <thead>\n",
       "    <tr style=\"text-align: right;\">\n",
       "      <th></th>\n",
       "      <th>Open</th>\n",
       "      <th>High</th>\n",
       "      <th>Low</th>\n",
       "      <th>Close</th>\n",
       "      <th>BTC Volume</th>\n",
       "      <th>USD Volume</th>\n",
       "      <th>Weighted Price</th>\n",
       "    </tr>\n",
       "    <tr>\n",
       "      <th>Timestamp</th>\n",
       "      <th></th>\n",
       "      <th></th>\n",
       "      <th></th>\n",
       "      <th></th>\n",
       "      <th></th>\n",
       "      <th></th>\n",
       "      <th></th>\n",
       "    </tr>\n",
       "  </thead>\n",
       "  <tbody>\n",
       "    <tr>\n",
       "      <th>2015-12-31 19:01:00</th>\n",
       "      <td>430.89</td>\n",
       "      <td>430.89</td>\n",
       "      <td>430.89</td>\n",
       "      <td>430.89</td>\n",
       "      <td>0.080631</td>\n",
       "      <td>34.743096</td>\n",
       "      <td>430.890000</td>\n",
       "    </tr>\n",
       "    <tr>\n",
       "      <th>2015-12-31 19:02:00</th>\n",
       "      <td>430.89</td>\n",
       "      <td>430.89</td>\n",
       "      <td>430.89</td>\n",
       "      <td>430.89</td>\n",
       "      <td>0.143257</td>\n",
       "      <td>61.728095</td>\n",
       "      <td>430.890000</td>\n",
       "    </tr>\n",
       "    <tr>\n",
       "      <th>2015-12-31 19:04:00</th>\n",
       "      <td>430.19</td>\n",
       "      <td>431.06</td>\n",
       "      <td>430.19</td>\n",
       "      <td>431.06</td>\n",
       "      <td>1.032161</td>\n",
       "      <td>444.627575</td>\n",
       "      <td>430.773269</td>\n",
       "    </tr>\n",
       "    <tr>\n",
       "      <th>2015-12-31 19:05:00</th>\n",
       "      <td>431.06</td>\n",
       "      <td>432.11</td>\n",
       "      <td>430.21</td>\n",
       "      <td>430.54</td>\n",
       "      <td>5.558156</td>\n",
       "      <td>2397.461993</td>\n",
       "      <td>431.341280</td>\n",
       "    </tr>\n",
       "    <tr>\n",
       "      <th>2015-12-31 19:06:00</th>\n",
       "      <td>432.53</td>\n",
       "      <td>432.53</td>\n",
       "      <td>431.48</td>\n",
       "      <td>432.52</td>\n",
       "      <td>4.117318</td>\n",
       "      <td>1776.650476</td>\n",
       "      <td>431.506725</td>\n",
       "    </tr>\n",
       "  </tbody>\n",
       "</table>\n",
       "</div>"
      ],
      "text/plain": [
       "                       Open    High     Low   Close  BTC Volume   USD Volume  \\\n",
       "Timestamp                                                                      \n",
       "2015-12-31 19:01:00  430.89  430.89  430.89  430.89    0.080631    34.743096   \n",
       "2015-12-31 19:02:00  430.89  430.89  430.89  430.89    0.143257    61.728095   \n",
       "2015-12-31 19:04:00  430.19  431.06  430.19  431.06    1.032161   444.627575   \n",
       "2015-12-31 19:05:00  431.06  432.11  430.21  430.54    5.558156  2397.461993   \n",
       "2015-12-31 19:06:00  432.53  432.53  431.48  432.52    4.117318  1776.650476   \n",
       "\n",
       "                     Weighted Price  \n",
       "Timestamp                            \n",
       "2015-12-31 19:01:00      430.890000  \n",
       "2015-12-31 19:02:00      430.890000  \n",
       "2015-12-31 19:04:00      430.773269  \n",
       "2015-12-31 19:05:00      431.341280  \n",
       "2015-12-31 19:06:00      431.506725  "
      ]
     },
     "execution_count": 9,
     "metadata": {},
     "output_type": "execute_result"
    }
   ],
   "source": [
    "# Convert the Close data type to a float\n",
    "bitstamp.loc[:, \"Close\"] = bitstamp.loc[:, \"Close\"].astype(\"float\")\n",
    "bitstamp.head()\n"
   ]
  },
  {
   "cell_type": "markdown",
   "metadata": {},
   "source": [
    "### Step 4: Review the data for duplicated values, and drop them if necessary."
   ]
  },
  {
   "cell_type": "code",
   "execution_count": 10,
   "metadata": {},
   "outputs": [
    {
     "data": {
      "text/plain": [
       "2647"
      ]
     },
     "execution_count": 10,
     "metadata": {},
     "output_type": "execute_result"
    }
   ],
   "source": [
    "# Review the data for duplicate values, and drop them if necessary\n",
    "bitstamp.duplicated().sum()\n"
   ]
  },
  {
   "cell_type": "code",
   "execution_count": 11,
   "metadata": {},
   "outputs": [],
   "source": [
    "bitstamp.drop_duplicates(inplace=True)"
   ]
  },
  {
   "cell_type": "code",
   "execution_count": 12,
   "metadata": {},
   "outputs": [
    {
     "data": {
      "text/plain": [
       "0"
      ]
     },
     "execution_count": 12,
     "metadata": {},
     "output_type": "execute_result"
    }
   ],
   "source": [
    "bitstamp.duplicated().sum()"
   ]
  },
  {
   "cell_type": "markdown",
   "metadata": {},
   "source": [
    "### Step 5: Repeat Steps 1–4 for the coinbase DataFrame."
   ]
  },
  {
   "cell_type": "code",
   "execution_count": 13,
   "metadata": {},
   "outputs": [
    {
     "data": {
      "text/plain": [
       "Open              0\n",
       "High              0\n",
       "Low               0\n",
       "Close             0\n",
       "BTC Volume        0\n",
       "USD Volume        0\n",
       "Weighted Price    0\n",
       "dtype: int64"
      ]
     },
     "execution_count": 13,
     "metadata": {},
     "output_type": "execute_result"
    }
   ],
   "source": [
    "# Repeat Steps 1–4 for the coinbase DataFrame\n",
    "coinbase = coinbase.dropna()\n",
    "coinbase.isnull().sum()"
   ]
  },
  {
   "cell_type": "code",
   "execution_count": 14,
   "metadata": {},
   "outputs": [
    {
     "data": {
      "text/html": [
       "<div>\n",
       "<style scoped>\n",
       "    .dataframe tbody tr th:only-of-type {\n",
       "        vertical-align: middle;\n",
       "    }\n",
       "\n",
       "    .dataframe tbody tr th {\n",
       "        vertical-align: top;\n",
       "    }\n",
       "\n",
       "    .dataframe thead th {\n",
       "        text-align: right;\n",
       "    }\n",
       "</style>\n",
       "<table border=\"1\" class=\"dataframe\">\n",
       "  <thead>\n",
       "    <tr style=\"text-align: right;\">\n",
       "      <th></th>\n",
       "      <th>Open</th>\n",
       "      <th>High</th>\n",
       "      <th>Low</th>\n",
       "      <th>Close</th>\n",
       "      <th>BTC Volume</th>\n",
       "      <th>USD Volume</th>\n",
       "      <th>Weighted Price</th>\n",
       "    </tr>\n",
       "    <tr>\n",
       "      <th>Timestamp</th>\n",
       "      <th></th>\n",
       "      <th></th>\n",
       "      <th></th>\n",
       "      <th></th>\n",
       "      <th></th>\n",
       "      <th></th>\n",
       "      <th></th>\n",
       "    </tr>\n",
       "  </thead>\n",
       "  <tbody>\n",
       "    <tr>\n",
       "      <th>2015-12-31 19:01:00</th>\n",
       "      <td>430.38</td>\n",
       "      <td>430.40</td>\n",
       "      <td>430.38</td>\n",
       "      <td>$430.4</td>\n",
       "      <td>0.947800</td>\n",
       "      <td>407.924370</td>\n",
       "      <td>430.390768</td>\n",
       "    </tr>\n",
       "    <tr>\n",
       "      <th>2015-12-31 19:02:00</th>\n",
       "      <td>430.40</td>\n",
       "      <td>430.40</td>\n",
       "      <td>430.40</td>\n",
       "      <td>$430.4</td>\n",
       "      <td>1.633400</td>\n",
       "      <td>703.015360</td>\n",
       "      <td>430.400000</td>\n",
       "    </tr>\n",
       "    <tr>\n",
       "      <th>2015-12-31 19:03:00</th>\n",
       "      <td>430.39</td>\n",
       "      <td>430.39</td>\n",
       "      <td>430.36</td>\n",
       "      <td>$430.36</td>\n",
       "      <td>12.566300</td>\n",
       "      <td>5408.313368</td>\n",
       "      <td>430.382322</td>\n",
       "    </tr>\n",
       "    <tr>\n",
       "      <th>2015-12-31 19:04:00</th>\n",
       "      <td>430.39</td>\n",
       "      <td>430.39</td>\n",
       "      <td>430.39</td>\n",
       "      <td>$430.39</td>\n",
       "      <td>1.953000</td>\n",
       "      <td>840.551670</td>\n",
       "      <td>430.390000</td>\n",
       "    </tr>\n",
       "    <tr>\n",
       "      <th>2015-12-31 19:05:00</th>\n",
       "      <td>430.40</td>\n",
       "      <td>430.96</td>\n",
       "      <td>430.40</td>\n",
       "      <td>$430.96</td>\n",
       "      <td>12.114161</td>\n",
       "      <td>5216.297064</td>\n",
       "      <td>430.595001</td>\n",
       "    </tr>\n",
       "  </tbody>\n",
       "</table>\n",
       "</div>"
      ],
      "text/plain": [
       "                       Open    High     Low    Close  BTC Volume   USD Volume  \\\n",
       "Timestamp                                                                       \n",
       "2015-12-31 19:01:00  430.38  430.40  430.38   $430.4    0.947800   407.924370   \n",
       "2015-12-31 19:02:00  430.40  430.40  430.40   $430.4    1.633400   703.015360   \n",
       "2015-12-31 19:03:00  430.39  430.39  430.36  $430.36   12.566300  5408.313368   \n",
       "2015-12-31 19:04:00  430.39  430.39  430.39  $430.39    1.953000   840.551670   \n",
       "2015-12-31 19:05:00  430.40  430.96  430.40  $430.96   12.114161  5216.297064   \n",
       "\n",
       "                     Weighted Price  \n",
       "Timestamp                            \n",
       "2015-12-31 19:01:00      430.390768  \n",
       "2015-12-31 19:02:00      430.400000  \n",
       "2015-12-31 19:03:00      430.382322  \n",
       "2015-12-31 19:04:00      430.390000  \n",
       "2015-12-31 19:05:00      430.595001  "
      ]
     },
     "execution_count": 14,
     "metadata": {},
     "output_type": "execute_result"
    }
   ],
   "source": [
    "coinbase.head()"
   ]
  },
  {
   "cell_type": "code",
   "execution_count": 15,
   "metadata": {},
   "outputs": [
    {
     "data": {
      "text/html": [
       "<div>\n",
       "<style scoped>\n",
       "    .dataframe tbody tr th:only-of-type {\n",
       "        vertical-align: middle;\n",
       "    }\n",
       "\n",
       "    .dataframe tbody tr th {\n",
       "        vertical-align: top;\n",
       "    }\n",
       "\n",
       "    .dataframe thead th {\n",
       "        text-align: right;\n",
       "    }\n",
       "</style>\n",
       "<table border=\"1\" class=\"dataframe\">\n",
       "  <thead>\n",
       "    <tr style=\"text-align: right;\">\n",
       "      <th></th>\n",
       "      <th>Open</th>\n",
       "      <th>High</th>\n",
       "      <th>Low</th>\n",
       "      <th>Close</th>\n",
       "      <th>BTC Volume</th>\n",
       "      <th>USD Volume</th>\n",
       "      <th>Weighted Price</th>\n",
       "    </tr>\n",
       "    <tr>\n",
       "      <th>Timestamp</th>\n",
       "      <th></th>\n",
       "      <th></th>\n",
       "      <th></th>\n",
       "      <th></th>\n",
       "      <th></th>\n",
       "      <th></th>\n",
       "      <th></th>\n",
       "    </tr>\n",
       "  </thead>\n",
       "  <tbody>\n",
       "    <tr>\n",
       "      <th>2015-12-31 19:01:00</th>\n",
       "      <td>430.38</td>\n",
       "      <td>430.40</td>\n",
       "      <td>430.38</td>\n",
       "      <td>430.4</td>\n",
       "      <td>0.947800</td>\n",
       "      <td>407.924370</td>\n",
       "      <td>430.390768</td>\n",
       "    </tr>\n",
       "    <tr>\n",
       "      <th>2015-12-31 19:02:00</th>\n",
       "      <td>430.40</td>\n",
       "      <td>430.40</td>\n",
       "      <td>430.40</td>\n",
       "      <td>430.4</td>\n",
       "      <td>1.633400</td>\n",
       "      <td>703.015360</td>\n",
       "      <td>430.400000</td>\n",
       "    </tr>\n",
       "    <tr>\n",
       "      <th>2015-12-31 19:03:00</th>\n",
       "      <td>430.39</td>\n",
       "      <td>430.39</td>\n",
       "      <td>430.36</td>\n",
       "      <td>430.36</td>\n",
       "      <td>12.566300</td>\n",
       "      <td>5408.313368</td>\n",
       "      <td>430.382322</td>\n",
       "    </tr>\n",
       "    <tr>\n",
       "      <th>2015-12-31 19:04:00</th>\n",
       "      <td>430.39</td>\n",
       "      <td>430.39</td>\n",
       "      <td>430.39</td>\n",
       "      <td>430.39</td>\n",
       "      <td>1.953000</td>\n",
       "      <td>840.551670</td>\n",
       "      <td>430.390000</td>\n",
       "    </tr>\n",
       "    <tr>\n",
       "      <th>2015-12-31 19:05:00</th>\n",
       "      <td>430.40</td>\n",
       "      <td>430.96</td>\n",
       "      <td>430.40</td>\n",
       "      <td>430.96</td>\n",
       "      <td>12.114161</td>\n",
       "      <td>5216.297064</td>\n",
       "      <td>430.595001</td>\n",
       "    </tr>\n",
       "  </tbody>\n",
       "</table>\n",
       "</div>"
      ],
      "text/plain": [
       "                       Open    High     Low   Close  BTC Volume   USD Volume  \\\n",
       "Timestamp                                                                      \n",
       "2015-12-31 19:01:00  430.38  430.40  430.38   430.4    0.947800   407.924370   \n",
       "2015-12-31 19:02:00  430.40  430.40  430.40   430.4    1.633400   703.015360   \n",
       "2015-12-31 19:03:00  430.39  430.39  430.36  430.36   12.566300  5408.313368   \n",
       "2015-12-31 19:04:00  430.39  430.39  430.39  430.39    1.953000   840.551670   \n",
       "2015-12-31 19:05:00  430.40  430.96  430.40  430.96   12.114161  5216.297064   \n",
       "\n",
       "                     Weighted Price  \n",
       "Timestamp                            \n",
       "2015-12-31 19:01:00      430.390768  \n",
       "2015-12-31 19:02:00      430.400000  \n",
       "2015-12-31 19:03:00      430.382322  \n",
       "2015-12-31 19:04:00      430.390000  \n",
       "2015-12-31 19:05:00      430.595001  "
      ]
     },
     "execution_count": 15,
     "metadata": {},
     "output_type": "execute_result"
    }
   ],
   "source": [
    "coinbase.loc[: , 'Close'] = coinbase.loc[: , 'Close'].str.replace('$' , '')\n",
    "coinbase.head()"
   ]
  },
  {
   "cell_type": "code",
   "execution_count": 16,
   "metadata": {},
   "outputs": [
    {
     "data": {
      "text/html": [
       "<div>\n",
       "<style scoped>\n",
       "    .dataframe tbody tr th:only-of-type {\n",
       "        vertical-align: middle;\n",
       "    }\n",
       "\n",
       "    .dataframe tbody tr th {\n",
       "        vertical-align: top;\n",
       "    }\n",
       "\n",
       "    .dataframe thead th {\n",
       "        text-align: right;\n",
       "    }\n",
       "</style>\n",
       "<table border=\"1\" class=\"dataframe\">\n",
       "  <thead>\n",
       "    <tr style=\"text-align: right;\">\n",
       "      <th></th>\n",
       "      <th>Open</th>\n",
       "      <th>High</th>\n",
       "      <th>Low</th>\n",
       "      <th>Close</th>\n",
       "      <th>BTC Volume</th>\n",
       "      <th>USD Volume</th>\n",
       "      <th>Weighted Price</th>\n",
       "    </tr>\n",
       "    <tr>\n",
       "      <th>Timestamp</th>\n",
       "      <th></th>\n",
       "      <th></th>\n",
       "      <th></th>\n",
       "      <th></th>\n",
       "      <th></th>\n",
       "      <th></th>\n",
       "      <th></th>\n",
       "    </tr>\n",
       "  </thead>\n",
       "  <tbody>\n",
       "    <tr>\n",
       "      <th>2019-01-07 17:02:00</th>\n",
       "      <td>4006.01</td>\n",
       "      <td>4006.57</td>\n",
       "      <td>4006.00</td>\n",
       "      <td>4006.01</td>\n",
       "      <td>3.382954</td>\n",
       "      <td>13553.433078</td>\n",
       "      <td>4006.390309</td>\n",
       "    </tr>\n",
       "    <tr>\n",
       "      <th>2019-01-07 17:03:00</th>\n",
       "      <td>4006.01</td>\n",
       "      <td>4006.57</td>\n",
       "      <td>4006.00</td>\n",
       "      <td>4006.01</td>\n",
       "      <td>0.902164</td>\n",
       "      <td>3614.083169</td>\n",
       "      <td>4006.017233</td>\n",
       "    </tr>\n",
       "    <tr>\n",
       "      <th>2019-01-07 17:04:00</th>\n",
       "      <td>4006.01</td>\n",
       "      <td>4006.01</td>\n",
       "      <td>4006.00</td>\n",
       "      <td>4006.01</td>\n",
       "      <td>1.192123</td>\n",
       "      <td>4775.647308</td>\n",
       "      <td>4006.003635</td>\n",
       "    </tr>\n",
       "    <tr>\n",
       "      <th>2019-01-07 17:05:00</th>\n",
       "      <td>4006.01</td>\n",
       "      <td>4006.01</td>\n",
       "      <td>4005.50</td>\n",
       "      <td>4005.50</td>\n",
       "      <td>2.699700</td>\n",
       "      <td>10814.241898</td>\n",
       "      <td>4005.719991</td>\n",
       "    </tr>\n",
       "    <tr>\n",
       "      <th>2019-01-07 17:06:00</th>\n",
       "      <td>4005.51</td>\n",
       "      <td>4006.01</td>\n",
       "      <td>4005.51</td>\n",
       "      <td>4005.99</td>\n",
       "      <td>1.752778</td>\n",
       "      <td>7021.183546</td>\n",
       "      <td>4005.745614</td>\n",
       "    </tr>\n",
       "  </tbody>\n",
       "</table>\n",
       "</div>"
      ],
      "text/plain": [
       "                        Open     High      Low    Close  BTC Volume  \\\n",
       "Timestamp                                                             \n",
       "2019-01-07 17:02:00  4006.01  4006.57  4006.00  4006.01    3.382954   \n",
       "2019-01-07 17:03:00  4006.01  4006.57  4006.00  4006.01    0.902164   \n",
       "2019-01-07 17:04:00  4006.01  4006.01  4006.00  4006.01    1.192123   \n",
       "2019-01-07 17:05:00  4006.01  4006.01  4005.50  4005.50    2.699700   \n",
       "2019-01-07 17:06:00  4005.51  4006.01  4005.51  4005.99    1.752778   \n",
       "\n",
       "                       USD Volume  Weighted Price  \n",
       "Timestamp                                          \n",
       "2019-01-07 17:02:00  13553.433078     4006.390309  \n",
       "2019-01-07 17:03:00   3614.083169     4006.017233  \n",
       "2019-01-07 17:04:00   4775.647308     4006.003635  \n",
       "2019-01-07 17:05:00  10814.241898     4005.719991  \n",
       "2019-01-07 17:06:00   7021.183546     4005.745614  "
      ]
     },
     "execution_count": 16,
     "metadata": {},
     "output_type": "execute_result"
    }
   ],
   "source": [
    "coinbase.loc[:, 'Close'] = coinbase.loc[:, 'Close'].astype('float')\n",
    "coinbase.tail()"
   ]
  },
  {
   "cell_type": "code",
   "execution_count": 17,
   "metadata": {},
   "outputs": [
    {
     "data": {
      "text/plain": [
       "624"
      ]
     },
     "execution_count": 17,
     "metadata": {},
     "output_type": "execute_result"
    }
   ],
   "source": [
    "coinbase.duplicated().sum()"
   ]
  },
  {
   "cell_type": "code",
   "execution_count": 18,
   "metadata": {},
   "outputs": [],
   "source": [
    "coinbase.drop_duplicates(inplace=True)"
   ]
  },
  {
   "cell_type": "code",
   "execution_count": 19,
   "metadata": {},
   "outputs": [
    {
     "data": {
      "text/plain": [
       "0"
      ]
     },
     "execution_count": 19,
     "metadata": {},
     "output_type": "execute_result"
    }
   ],
   "source": [
    "coinbase.duplicated().sum()\n"
   ]
  },
  {
   "cell_type": "markdown",
   "metadata": {},
   "source": [
    "## Analyze the Dat\n",
    "\n",
    "Your analysis consists of the following steps:\n",
    "\n",
    "Your analysis consists of the following tasks: \n",
    "\n",
    "1. Choose the columns of data on which to focus your analysis.\n",
    "\n",
    "2. Get the summary statistics and plot the data.\n",
    "\n",
    "3. Focus your analysis on specific dates.\n",
    "\n",
    "4. Calculate the arbitrage profits."
   ]
  },
  {
   "cell_type": "markdown",
   "metadata": {},
   "source": [
    "### Step 1: Choose columns of data on which to focus your analysis.\n",
    "\n",
    "Select the data you want to analyze. Use `loc` or `iloc` to select the following columns of data for both the bitstamp and coinbase DataFrames:\n",
    "\n",
    "* Timestamp (index)\n",
    "\n",
    "* Close\n"
   ]
  },
  {
   "cell_type": "code",
   "execution_count": 20,
   "metadata": {},
   "outputs": [
    {
     "data": {
      "text/html": [
       "<div>\n",
       "<style scoped>\n",
       "    .dataframe tbody tr th:only-of-type {\n",
       "        vertical-align: middle;\n",
       "    }\n",
       "\n",
       "    .dataframe tbody tr th {\n",
       "        vertical-align: top;\n",
       "    }\n",
       "\n",
       "    .dataframe thead th {\n",
       "        text-align: right;\n",
       "    }\n",
       "</style>\n",
       "<table border=\"1\" class=\"dataframe\">\n",
       "  <thead>\n",
       "    <tr style=\"text-align: right;\">\n",
       "      <th></th>\n",
       "      <th>Close</th>\n",
       "    </tr>\n",
       "    <tr>\n",
       "      <th>Timestamp</th>\n",
       "      <th></th>\n",
       "    </tr>\n",
       "  </thead>\n",
       "  <tbody>\n",
       "    <tr>\n",
       "      <th>2015-12-31 19:01:00</th>\n",
       "      <td>430.89</td>\n",
       "    </tr>\n",
       "    <tr>\n",
       "      <th>2015-12-31 19:02:00</th>\n",
       "      <td>430.89</td>\n",
       "    </tr>\n",
       "    <tr>\n",
       "      <th>2015-12-31 19:04:00</th>\n",
       "      <td>431.06</td>\n",
       "    </tr>\n",
       "    <tr>\n",
       "      <th>2015-12-31 19:05:00</th>\n",
       "      <td>430.54</td>\n",
       "    </tr>\n",
       "    <tr>\n",
       "      <th>2015-12-31 19:06:00</th>\n",
       "      <td>432.52</td>\n",
       "    </tr>\n",
       "  </tbody>\n",
       "</table>\n",
       "</div>"
      ],
      "text/plain": [
       "                      Close\n",
       "Timestamp                  \n",
       "2015-12-31 19:01:00  430.89\n",
       "2015-12-31 19:02:00  430.89\n",
       "2015-12-31 19:04:00  431.06\n",
       "2015-12-31 19:05:00  430.54\n",
       "2015-12-31 19:06:00  432.52"
      ]
     },
     "execution_count": 20,
     "metadata": {},
     "output_type": "execute_result"
    }
   ],
   "source": [
    "# Use loc or iloc to select `Timestamp (the index)` and `Close` from bitstamp DataFrame\n",
    "bitstamp_sliced = bitstamp.iloc[:, [3]]\n",
    "\n",
    "# Review the first five rows of the DataFrame\n",
    "bitstamp_sliced.head()\n"
   ]
  },
  {
   "cell_type": "code",
   "execution_count": 21,
   "metadata": {},
   "outputs": [
    {
     "data": {
      "text/html": [
       "<div>\n",
       "<style scoped>\n",
       "    .dataframe tbody tr th:only-of-type {\n",
       "        vertical-align: middle;\n",
       "    }\n",
       "\n",
       "    .dataframe tbody tr th {\n",
       "        vertical-align: top;\n",
       "    }\n",
       "\n",
       "    .dataframe thead th {\n",
       "        text-align: right;\n",
       "    }\n",
       "</style>\n",
       "<table border=\"1\" class=\"dataframe\">\n",
       "  <thead>\n",
       "    <tr style=\"text-align: right;\">\n",
       "      <th></th>\n",
       "      <th>Close</th>\n",
       "    </tr>\n",
       "    <tr>\n",
       "      <th>Timestamp</th>\n",
       "      <th></th>\n",
       "    </tr>\n",
       "  </thead>\n",
       "  <tbody>\n",
       "    <tr>\n",
       "      <th>2015-12-31 19:01:00</th>\n",
       "      <td>430.40</td>\n",
       "    </tr>\n",
       "    <tr>\n",
       "      <th>2015-12-31 19:02:00</th>\n",
       "      <td>430.40</td>\n",
       "    </tr>\n",
       "    <tr>\n",
       "      <th>2015-12-31 19:03:00</th>\n",
       "      <td>430.36</td>\n",
       "    </tr>\n",
       "    <tr>\n",
       "      <th>2015-12-31 19:04:00</th>\n",
       "      <td>430.39</td>\n",
       "    </tr>\n",
       "    <tr>\n",
       "      <th>2015-12-31 19:05:00</th>\n",
       "      <td>430.96</td>\n",
       "    </tr>\n",
       "  </tbody>\n",
       "</table>\n",
       "</div>"
      ],
      "text/plain": [
       "                      Close\n",
       "Timestamp                  \n",
       "2015-12-31 19:01:00  430.40\n",
       "2015-12-31 19:02:00  430.40\n",
       "2015-12-31 19:03:00  430.36\n",
       "2015-12-31 19:04:00  430.39\n",
       "2015-12-31 19:05:00  430.96"
      ]
     },
     "execution_count": 21,
     "metadata": {},
     "output_type": "execute_result"
    }
   ],
   "source": [
    "# Use loc or iloc to select `Timestamp (the index)` and `Close` from coinbase DataFrame\n",
    "coinbase_sliced = coinbase.iloc[:, [3]]\n",
    "\n",
    "# Review the first five rows of the DataFrame\n",
    "coinbase_sliced.head()\n",
    "\n"
   ]
  },
  {
   "cell_type": "markdown",
   "metadata": {},
   "source": [
    "### Step 2: Get summary statistics and plot the data.\n",
    "\n",
    "Sort through the time series data associated with the bitstamp and coinbase DataFrames to identify potential arbitrage opportunities. To do so, complete the following steps:\n",
    "\n",
    "1. Generate the summary statistics for each DataFrame by using the `describe` function.\n",
    "\n",
    "2. For each DataFrame, create a line plot for the full period of time in the dataset. Be sure to tailor the figure size, title, and color to each visualization.\n",
    "\n",
    "3. In one plot, overlay the visualizations that you created in Step 2 for bitstamp and coinbase. Be sure to adjust the legend and title for this new visualization.\n",
    "\n",
    "4. Using the `loc` and `plot` functions, plot the price action of the assets on each exchange for different dates and times. Your goal is to evaluate how the spread between the two exchanges changed across the time period that the datasets define. Did the degree of spread change as time progressed?"
   ]
  },
  {
   "cell_type": "code",
   "execution_count": 22,
   "metadata": {},
   "outputs": [
    {
     "data": {
      "text/html": [
       "<div>\n",
       "<style scoped>\n",
       "    .dataframe tbody tr th:only-of-type {\n",
       "        vertical-align: middle;\n",
       "    }\n",
       "\n",
       "    .dataframe tbody tr th {\n",
       "        vertical-align: top;\n",
       "    }\n",
       "\n",
       "    .dataframe thead th {\n",
       "        text-align: right;\n",
       "    }\n",
       "</style>\n",
       "<table border=\"1\" class=\"dataframe\">\n",
       "  <thead>\n",
       "    <tr style=\"text-align: right;\">\n",
       "      <th></th>\n",
       "      <th>Close</th>\n",
       "    </tr>\n",
       "  </thead>\n",
       "  <tbody>\n",
       "    <tr>\n",
       "      <th>count</th>\n",
       "      <td>1.347772e+06</td>\n",
       "    </tr>\n",
       "    <tr>\n",
       "      <th>mean</th>\n",
       "      <td>4.503924e+03</td>\n",
       "    </tr>\n",
       "    <tr>\n",
       "      <th>std</th>\n",
       "      <td>3.956149e+03</td>\n",
       "    </tr>\n",
       "    <tr>\n",
       "      <th>min</th>\n",
       "      <td>1.500000e+00</td>\n",
       "    </tr>\n",
       "    <tr>\n",
       "      <th>25%</th>\n",
       "      <td>7.888900e+02</td>\n",
       "    </tr>\n",
       "    <tr>\n",
       "      <th>50%</th>\n",
       "      <td>3.788990e+03</td>\n",
       "    </tr>\n",
       "    <tr>\n",
       "      <th>75%</th>\n",
       "      <td>6.929443e+03</td>\n",
       "    </tr>\n",
       "    <tr>\n",
       "      <th>max</th>\n",
       "      <td>1.966575e+04</td>\n",
       "    </tr>\n",
       "  </tbody>\n",
       "</table>\n",
       "</div>"
      ],
      "text/plain": [
       "              Close\n",
       "count  1.347772e+06\n",
       "mean   4.503924e+03\n",
       "std    3.956149e+03\n",
       "min    1.500000e+00\n",
       "25%    7.888900e+02\n",
       "50%    3.788990e+03\n",
       "75%    6.929443e+03\n",
       "max    1.966575e+04"
      ]
     },
     "execution_count": 22,
     "metadata": {},
     "output_type": "execute_result"
    }
   ],
   "source": [
    "# Generate the summary statistics for the bitstamp DataFrame\n",
    "bitstamp_sliced.describe()\n"
   ]
  },
  {
   "cell_type": "code",
   "execution_count": 23,
   "metadata": {},
   "outputs": [
    {
     "data": {
      "text/html": [
       "<div>\n",
       "<style scoped>\n",
       "    .dataframe tbody tr th:only-of-type {\n",
       "        vertical-align: middle;\n",
       "    }\n",
       "\n",
       "    .dataframe tbody tr th {\n",
       "        vertical-align: top;\n",
       "    }\n",
       "\n",
       "    .dataframe thead th {\n",
       "        text-align: right;\n",
       "    }\n",
       "</style>\n",
       "<table border=\"1\" class=\"dataframe\">\n",
       "  <thead>\n",
       "    <tr style=\"text-align: right;\">\n",
       "      <th></th>\n",
       "      <th>Close</th>\n",
       "    </tr>\n",
       "  </thead>\n",
       "  <tbody>\n",
       "    <tr>\n",
       "      <th>count</th>\n",
       "      <td>1.549523e+06</td>\n",
       "    </tr>\n",
       "    <tr>\n",
       "      <th>mean</th>\n",
       "      <td>4.091926e+03</td>\n",
       "    </tr>\n",
       "    <tr>\n",
       "      <th>std</th>\n",
       "      <td>3.913501e+03</td>\n",
       "    </tr>\n",
       "    <tr>\n",
       "      <th>min</th>\n",
       "      <td>6.000000e-02</td>\n",
       "    </tr>\n",
       "    <tr>\n",
       "      <th>25%</th>\n",
       "      <td>6.754000e+02</td>\n",
       "    </tr>\n",
       "    <tr>\n",
       "      <th>50%</th>\n",
       "      <td>2.710730e+03</td>\n",
       "    </tr>\n",
       "    <tr>\n",
       "      <th>75%</th>\n",
       "      <td>6.593500e+03</td>\n",
       "    </tr>\n",
       "    <tr>\n",
       "      <th>max</th>\n",
       "      <td>1.989199e+04</td>\n",
       "    </tr>\n",
       "  </tbody>\n",
       "</table>\n",
       "</div>"
      ],
      "text/plain": [
       "              Close\n",
       "count  1.549523e+06\n",
       "mean   4.091926e+03\n",
       "std    3.913501e+03\n",
       "min    6.000000e-02\n",
       "25%    6.754000e+02\n",
       "50%    2.710730e+03\n",
       "75%    6.593500e+03\n",
       "max    1.989199e+04"
      ]
     },
     "execution_count": 23,
     "metadata": {},
     "output_type": "execute_result"
    }
   ],
   "source": [
    "# Generate the summary statistics for the coinbase DataFrame\n",
    "coinbase_sliced.describe()\n"
   ]
  },
  {
   "cell_type": "code",
   "execution_count": 24,
   "metadata": {},
   "outputs": [
    {
     "data": {
      "text/plain": [
       "<AxesSubplot:title={'center':'bitstamp close price graph'}, xlabel='Timestamp'>"
      ]
     },
     "execution_count": 24,
     "metadata": {},
     "output_type": "execute_result"
    },
    {
     "data": {
      "image/png": "[encoded data removed]",
      "text/plain": [
       "<Figure size 720x504 with 1 Axes>"
      ]
     },
     "metadata": {
      "needs_background": "light"
     },
     "output_type": "display_data"
    }
   ],
   "source": [
    "# Create a line plot for the bitstamp DataFrame for the full length of time in the dataset \n",
    "# Be sure that the figure size, title, and color are tailored to each visualization\n",
    "bitstamp_sliced.plot(kind='line',figsize=(10,7),title= 'bitstamp close price graph', color= 'blue')\n"
   ]
  },
  {
   "cell_type": "code",
   "execution_count": 25,
   "metadata": {},
   "outputs": [
    {
     "data": {
      "text/plain": [
       "<AxesSubplot:title={'center':'coinbase close price graph'}, xlabel='Timestamp'>"
      ]
     },
     "execution_count": 25,
     "metadata": {},
     "output_type": "execute_result"
    },
    {
     "data": {
      "image/png": "[encoded data removed]",
      "text/plain": [
       "<Figure size 720x504 with 1 Axes>"
      ]
     },
     "metadata": {
      "needs_background": "light"
     },
     "output_type": "display_data"
    }
   ],
   "source": [
    "# Create a line plot for the coinbase DataFrame for the full length of time in the dataset \n",
    "# Be sure that the figure size, title, and color are tailored to each visualization\n",
    "coinbase_sliced.plot(kind='line', figsize=(10,7), title='coinbase close price graph', color='orange')\n"
   ]
  },
  {
   "cell_type": "code",
   "execution_count": 26,
   "metadata": {},
   "outputs": [
    {
     "data": {
      "text/plain": [
       "<AxesSubplot:title={'center':'bitstamp vs. coinbase'}, xlabel='Timestamp'>"
      ]
     },
     "execution_count": 26,
     "metadata": {},
     "output_type": "execute_result"
    },
    {
     "data": {
      "image/png": "[encoded data removed]",
      "text/plain": [
       "<Figure size 1080x720 with 1 Axes>"
      ]
     },
     "metadata": {
      "needs_background": "light"
     },
     "output_type": "display_data"
    }
   ],
   "source": [
    "# Overlay the visualizations for the bitstamp and coinbase DataFrames in one plot\n",
    "# The plot should visualize the prices over the full lenth of the dataset\n",
    "# Be sure to include the parameters: legend, figure size, title, and color and label\n",
    "ax = bitstamp_sliced.plot(legend=True, kind='line',figsize=(15,10),title= 'bitstamp vs. coinbase', color= 'blue', label= 'bitstamp')\n",
    "coinbase_sliced.plot(legend= True, kind='line', figsize=(15,10), color='orange', label= 'coinbase', ax=ax)"
   ]
  },
  {
   "cell_type": "code",
   "execution_count": 27,
   "metadata": {},
   "outputs": [
    {
     "data": {
      "text/plain": [
       "<AxesSubplot:title={'center':'bitstamp vs. coinbase in Aug 2016'}, xlabel='Timestamp'>"
      ]
     },
     "execution_count": 27,
     "metadata": {},
     "output_type": "execute_result"
    },
    {
     "data": {
      "image/png": "[encoded data removed]",
      "text/plain": [
       "<Figure size 1080x720 with 1 Axes>"
      ]
     },
     "metadata": {
      "needs_background": "light"
     },
     "output_type": "display_data"
    }
   ],
   "source": [
    "# Using the loc and plot functions, create an overlay plot that visualizes \n",
    "# the price action of both DataFrames for a one month period early in the dataset\n",
    "# Be sure to include the parameters: legend, figure size, title, and color and label\n",
    "ax = bitstamp.loc['2016-08-01':'2016-08-30', 'Close'].plot(legend=True, kind='line',figsize=(15,10),title= 'bitstamp vs. coinbase in Aug 2016', color= 'blue', label= 'bitstamp')\n",
    "coinbase.loc['2016-08-01':'2016-08-30', 'Close'].plot(legend= True, kind='line', figsize=(15,10), color='orange', label= 'coinbase', ax=ax)"
   ]
  },
  {
   "cell_type": "code",
   "execution_count": 28,
   "metadata": {},
   "outputs": [
    {
     "data": {
      "text/plain": [
       "<AxesSubplot:title={'center':'bitstamp vs. coinbase in Sep 2018'}, xlabel='Timestamp'>"
      ]
     },
     "execution_count": 28,
     "metadata": {},
     "output_type": "execute_result"
    },
    {
     "data": {
      "image/png": "[encoded data removed]",
      "text/plain": [
       "<Figure size 1080x720 with 1 Axes>"
      ]
     },
     "metadata": {
      "needs_background": "light"
     },
     "output_type": "display_data"
    }
   ],
   "source": [
    "# Using the loc and plot functions, create an overlay plot that visualizes \n",
    "# the price action of both DataFrames for a one month period later in the dataset\n",
    "# Be sure to include the parameters: legend, figure size, title, and color and label \n",
    "ax = bitstamp.loc['2018-09-01':'2018-09-30', 'Close'].plot(legend=True, kind='line',figsize=(15,10),title= 'bitstamp vs. coinbase in Jan 2018', color= 'blue', label= 'bitstamp')\n",
    "coinbase.loc['2018-09-01':'2018-09-30', 'Close'].plot(legend= True, kind='line', figsize=(15,10), color='orange', label= 'coinbase', ax=ax)"
   ]
  },
  {
   "cell_type": "markdown",
   "metadata": {},
   "source": [
    "**Question** Based on the visualizations of the different time periods, has the degree of spread change as time progressed?\n",
    "\n",
    "**Answer** # Based on the graph from different time period, it's hardly to tell there's a counter change. Both crypto currencies are acting the same way, it is just the difference\n",
    "                of changing amount between them."
   ]
  },
  {
   "cell_type": "markdown",
   "metadata": {},
   "source": [
    "### Step 3: Focus Your Analysis on Specific Dates\n",
    "\n",
    "Focus your analysis on specific dates by completing the following steps:\n",
    "\n",
    "1. Select three dates to evaluate for arbitrage profitability. Choose one date that’s early in the dataset, one from the middle of the dataset, and one from the last year of the time period.\n",
    "\n",
    "2. For each of the three dates, generate the summary statistics and then create a box plot. This big-picture view is meant to help you gain a better understanding of the data before you perform your arbitrage calculations. As you compare the data, what conclusions can you draw?"
   ]
  },
  {
   "cell_type": "code",
   "execution_count": 29,
   "metadata": {},
   "outputs": [
    {
     "data": {
      "text/plain": [
       "<AxesSubplot:title={'center':'bitstamp vs. coinbase on 2016-08-01'}, xlabel='Timestamp'>"
      ]
     },
     "execution_count": 29,
     "metadata": {},
     "output_type": "execute_result"
    },
    {
     "data": {
      "image/png": "[encoded data removed]",
      "text/plain": [
       "<Figure size 1080x720 with 1 Axes>"
      ]
     },
     "metadata": {
      "needs_background": "light"
     },
     "output_type": "display_data"
    }
   ],
   "source": [
    "# Create an overlay plot that visualizes the two dataframes over a period of one day early in the dataset \n",
    "# Be sure that the plots include the parameters `legend`, `figsize`, `title`, `color` and `label` \n",
    "ax = bitstamp.loc['2016-08-01', 'Close'].plot(legend=True, kind='line',figsize=(15,10),title= 'bitstamp vs. coinbase on 2016-08-01', color= 'blue', label= 'bitstamp')\n",
    "coinbase.loc['2016-08-01', 'Close'].plot(legend= True, kind='line', figsize=(15,10), color='orange', label= 'coinbase', ax=ax)\n"
   ]
  },
  {
   "cell_type": "code",
   "execution_count": 30,
   "metadata": {
    "tags": []
   },
   "outputs": [
    {
     "data": {
      "text/html": [
       "<div>\n",
       "<style scoped>\n",
       "    .dataframe tbody tr th:only-of-type {\n",
       "        vertical-align: middle;\n",
       "    }\n",
       "\n",
       "    .dataframe tbody tr th {\n",
       "        vertical-align: top;\n",
       "    }\n",
       "\n",
       "    .dataframe thead th {\n",
       "        text-align: right;\n",
       "    }\n",
       "</style>\n",
       "<table border=\"1\" class=\"dataframe\">\n",
       "  <thead>\n",
       "    <tr style=\"text-align: right;\">\n",
       "      <th></th>\n",
       "      <th>Close</th>\n",
       "    </tr>\n",
       "  </thead>\n",
       "  <tbody>\n",
       "    <tr>\n",
       "      <th>count</th>\n",
       "      <td>936.000000</td>\n",
       "    </tr>\n",
       "    <tr>\n",
       "      <th>mean</th>\n",
       "      <td>0.345588</td>\n",
       "    </tr>\n",
       "    <tr>\n",
       "      <th>std</th>\n",
       "      <td>2.120735</td>\n",
       "    </tr>\n",
       "    <tr>\n",
       "      <th>min</th>\n",
       "      <td>-7.170000</td>\n",
       "    </tr>\n",
       "    <tr>\n",
       "      <th>25%</th>\n",
       "      <td>-0.892500</td>\n",
       "    </tr>\n",
       "    <tr>\n",
       "      <th>50%</th>\n",
       "      <td>0.320000</td>\n",
       "    </tr>\n",
       "    <tr>\n",
       "      <th>75%</th>\n",
       "      <td>1.790000</td>\n",
       "    </tr>\n",
       "    <tr>\n",
       "      <th>max</th>\n",
       "      <td>6.410000</td>\n",
       "    </tr>\n",
       "  </tbody>\n",
       "</table>\n",
       "</div>"
      ],
      "text/plain": [
       "            Close\n",
       "count  936.000000\n",
       "mean     0.345588\n",
       "std      2.120735\n",
       "min     -7.170000\n",
       "25%     -0.892500\n",
       "50%      0.320000\n",
       "75%      1.790000\n",
       "max      6.410000"
      ]
     },
     "metadata": {},
     "output_type": "display_data"
    }
   ],
   "source": [
    "# Using the early date that you have selected, calculate the arbitrage spread \n",
    "# by subtracting the bitstamp lower closing prices from the coinbase higher closing prices\n",
    "arbitrage_spread_early =  coinbase_sliced.loc['2016-08-01'] - bitstamp_sliced.loc['2016-08-01']\n",
    "\n",
    "# Generate summary statistics for the early DataFrame\n",
    "display(arbitrage_spread_early.describe())\n"
   ]
  },
  {
   "cell_type": "code",
   "execution_count": 31,
   "metadata": {},
   "outputs": [
    {
     "data": {
      "text/plain": [
       "<AxesSubplot:title={'center':'arbitrage spread for coinbase on 2016-08-01'}>"
      ]
     },
     "execution_count": 31,
     "metadata": {},
     "output_type": "execute_result"
    },
    {
     "data": {
      "image/png": "[encoded data removed]",
      "text/plain": [
       "<Figure size 1080x720 with 1 Axes>"
      ]
     },
     "metadata": {
      "needs_background": "light"
     },
     "output_type": "display_data"
    },
    {
     "data": {
      "image/png": "[encoded data removed]",
      "text/plain": [
       "<Figure size 1080x720 with 1 Axes>"
      ]
     },
     "metadata": {
      "needs_background": "light"
     },
     "output_type": "display_data"
    }
   ],
   "source": [
    "# Visualize the arbitrage spread from early in the dataset in a box plot\n",
    "# Be sure to include at least a title with your plot\n",
    "bitstamp_sliced.loc['2016-08-01'].plot(legend=True, kind='box', figsize=(15,10), color= 'blue', title = 'arbitrage spread for bistamp on 2016-08-01', label = 'bitstamp')\n",
    "coinbase_sliced.loc['2016-08-01'].plot(legend= True, kind='box', figsize=(15,10), color='orange', label = 'coinbase', title = 'arbitrage spread for coinbase on 2016-08-01')\n"
   ]
  },
  {
   "cell_type": "code",
   "execution_count": 32,
   "metadata": {},
   "outputs": [
    {
     "data": {
      "text/plain": [
       "<AxesSubplot:title={'center':'bitstamp vs. coinbase on 2017-06-01'}, xlabel='Timestamp'>"
      ]
     },
     "execution_count": 32,
     "metadata": {},
     "output_type": "execute_result"
    },
    {
     "data": {
      "image/png": "[encoded data removed]",
      "text/plain": [
       "<Figure size 1080x720 with 1 Axes>"
      ]
     },
     "metadata": {
      "needs_background": "light"
     },
     "output_type": "display_data"
    }
   ],
   "source": [
    "# Create an overlay plot that visualizes the two dataframes over a period of one day from the middle of the dataset. \n",
    "# Be sure that the plots include the parameters `legend`, `figsize`, `title`, `color` and `label` \n",
    "ax = bitstamp_sliced.loc['2017-06-01'].plot(legend=True, kind='line',figsize=(15,10),title=\n",
    "                                            'bitstamp vs. coinbase on 2017-06-01', color= 'blue', label= 'bitstamp')\n",
    "coinbase_sliced.loc['2017-06-01'].plot(legend= True, kind='line', figsize=(15,10), color='orange', label= 'coinbase', ax=ax)"
   ]
  },
  {
   "cell_type": "code",
   "execution_count": 33,
   "metadata": {},
   "outputs": [
    {
     "data": {
      "text/html": [
       "<div>\n",
       "<style scoped>\n",
       "    .dataframe tbody tr th:only-of-type {\n",
       "        vertical-align: middle;\n",
       "    }\n",
       "\n",
       "    .dataframe tbody tr th {\n",
       "        vertical-align: top;\n",
       "    }\n",
       "\n",
       "    .dataframe thead th {\n",
       "        text-align: right;\n",
       "    }\n",
       "</style>\n",
       "<table border=\"1\" class=\"dataframe\">\n",
       "  <thead>\n",
       "    <tr style=\"text-align: right;\">\n",
       "      <th></th>\n",
       "      <th>Close</th>\n",
       "    </tr>\n",
       "  </thead>\n",
       "  <tbody>\n",
       "    <tr>\n",
       "      <th>count</th>\n",
       "      <td>1426.000000</td>\n",
       "    </tr>\n",
       "    <tr>\n",
       "      <th>mean</th>\n",
       "      <td>14.923647</td>\n",
       "    </tr>\n",
       "    <tr>\n",
       "      <th>std</th>\n",
       "      <td>12.358508</td>\n",
       "    </tr>\n",
       "    <tr>\n",
       "      <th>min</th>\n",
       "      <td>-11.440000</td>\n",
       "    </tr>\n",
       "    <tr>\n",
       "      <th>25%</th>\n",
       "      <td>5.957500</td>\n",
       "    </tr>\n",
       "    <tr>\n",
       "      <th>50%</th>\n",
       "      <td>12.700000</td>\n",
       "    </tr>\n",
       "    <tr>\n",
       "      <th>75%</th>\n",
       "      <td>22.542500</td>\n",
       "    </tr>\n",
       "    <tr>\n",
       "      <th>max</th>\n",
       "      <td>52.510000</td>\n",
       "    </tr>\n",
       "  </tbody>\n",
       "</table>\n",
       "</div>"
      ],
      "text/plain": [
       "             Close\n",
       "count  1426.000000\n",
       "mean     14.923647\n",
       "std      12.358508\n",
       "min     -11.440000\n",
       "25%       5.957500\n",
       "50%      12.700000\n",
       "75%      22.542500\n",
       "max      52.510000"
      ]
     },
     "metadata": {},
     "output_type": "display_data"
    }
   ],
   "source": [
    "# Using the date form the middle that you have selected, calculate the arbitrage spread \n",
    "# by subtracting the bitstamp lower closing prices from the coinbase higher closing prices\n",
    "arbitrage_spread_middle = coinbase_sliced.loc['2017-06-01'] - bitstamp_sliced.loc['2017-06-01'] \n",
    "\n",
    "# Generate summary statistics for the middle DataFrame\n",
    "display(arbitrage_spread_middle.describe())\n"
   ]
  },
  {
   "cell_type": "code",
   "execution_count": 34,
   "metadata": {},
   "outputs": [
    {
     "data": {
      "text/plain": [
       "<AxesSubplot:title={'center':'arbitrage spread for coinbase on 2016-08-01on 2017-06-01'}>"
      ]
     },
     "execution_count": 34,
     "metadata": {},
     "output_type": "execute_result"
    },
    {
     "data": {
      "image/png": "[encoded data removed]",
      "text/plain": [
       "<Figure size 1080x720 with 1 Axes>"
      ]
     },
     "metadata": {
      "needs_background": "light"
     },
     "output_type": "display_data"
    },
    {
     "data": {
      "image/png": "[encoded data removed]",
      "text/plain": [
       "<Figure size 1080x720 with 1 Axes>"
      ]
     },
     "metadata": {
      "needs_background": "light"
     },
     "output_type": "display_data"
    }
   ],
   "source": [
    "# Visualize the arbitrage spread from the middle of the dataset in a box plot\n",
    "# Be sure to include at least a title with your plot\n",
    "bitstamp_sliced.loc['2017-06-01'].plot(legend=True, kind='box', figsize=(15,10), color= 'blue', title = 'arbitrage spread for bistamp on 2017-06-01', label = 'bitstamp')\n",
    "coinbase_sliced.loc['2017-06-01'].plot(legend= True, kind='box', figsize=(15,10), color='orange', label = 'coinbase', \n",
    "                                       title = 'arbitrage spread for coinbase on 2016-08-01on 2017-06-01')\n",
    "\n"
   ]
  },
  {
   "cell_type": "code",
   "execution_count": 35,
   "metadata": {},
   "outputs": [
    {
     "data": {
      "text/plain": [
       "<AxesSubplot:title={'center':'bitstamp vs. coinbase on 2018-10-01'}, xlabel='Timestamp'>"
      ]
     },
     "execution_count": 35,
     "metadata": {},
     "output_type": "execute_result"
    },
    {
     "data": {
      "image/png": "[encoded data removed]",
      "text/plain": [
       "<Figure size 1080x720 with 1 Axes>"
      ]
     },
     "metadata": {
      "needs_background": "light"
     },
     "output_type": "display_data"
    }
   ],
   "source": [
    "# Create an overlay plot that visualizes the two dataframes over a period of one day from late in the dataset\n",
    "# Be sure that the plots include the parameters `legend`, `figsize`, `title`, `color` and `label` \n",
    "ax = bitstamp_sliced.loc['2018-01-01'].plot(legend=True, kind='line',figsize=(15,10),title=\n",
    "                                            'bitstamp vs. coinbase on 2018-10-01', color= 'blue', label= 'bitstamp')\n",
    "coinbase_sliced.loc['2018-01-01'].plot(legend= True, kind='line', figsize=(15,10), color='orange', label= 'coinbase', ax=ax)\n"
   ]
  },
  {
   "cell_type": "code",
   "execution_count": 36,
   "metadata": {},
   "outputs": [
    {
     "data": {
      "text/html": [
       "<div>\n",
       "<style scoped>\n",
       "    .dataframe tbody tr th:only-of-type {\n",
       "        vertical-align: middle;\n",
       "    }\n",
       "\n",
       "    .dataframe tbody tr th {\n",
       "        vertical-align: top;\n",
       "    }\n",
       "\n",
       "    .dataframe thead th {\n",
       "        text-align: right;\n",
       "    }\n",
       "</style>\n",
       "<table border=\"1\" class=\"dataframe\">\n",
       "  <thead>\n",
       "    <tr style=\"text-align: right;\">\n",
       "      <th></th>\n",
       "      <th>Close</th>\n",
       "    </tr>\n",
       "  </thead>\n",
       "  <tbody>\n",
       "    <tr>\n",
       "      <th>count</th>\n",
       "      <td>1421.000000</td>\n",
       "    </tr>\n",
       "    <tr>\n",
       "      <th>mean</th>\n",
       "      <td>5.767368</td>\n",
       "    </tr>\n",
       "    <tr>\n",
       "      <th>std</th>\n",
       "      <td>46.214511</td>\n",
       "    </tr>\n",
       "    <tr>\n",
       "      <th>min</th>\n",
       "      <td>-142.000000</td>\n",
       "    </tr>\n",
       "    <tr>\n",
       "      <th>25%</th>\n",
       "      <td>-26.890000</td>\n",
       "    </tr>\n",
       "    <tr>\n",
       "      <th>50%</th>\n",
       "      <td>5.480000</td>\n",
       "    </tr>\n",
       "    <tr>\n",
       "      <th>75%</th>\n",
       "      <td>36.000000</td>\n",
       "    </tr>\n",
       "    <tr>\n",
       "      <th>max</th>\n",
       "      <td>319.990000</td>\n",
       "    </tr>\n",
       "  </tbody>\n",
       "</table>\n",
       "</div>"
      ],
      "text/plain": [
       "             Close\n",
       "count  1421.000000\n",
       "mean      5.767368\n",
       "std      46.214511\n",
       "min    -142.000000\n",
       "25%     -26.890000\n",
       "50%       5.480000\n",
       "75%      36.000000\n",
       "max     319.990000"
      ]
     },
     "metadata": {},
     "output_type": "display_data"
    }
   ],
   "source": [
    "# Using th date from late in the dataset that you have selected, calculate the arbitrage spread \n",
    "# by subtracting the bitstamp lower closing prices from the coinbase higher closing prices\n",
    "arbitrage_spread_late = coinbase_sliced.loc['2018-01-01'] - bitstamp_sliced.loc['2018-01-01'] \n",
    "\n",
    "# Generate summary statistics for the late DataFrame\n",
    "display(arbitrage_spread_late.describe())\n"
   ]
  },
  {
   "cell_type": "code",
   "execution_count": 37,
   "metadata": {},
   "outputs": [
    {
     "data": {
      "text/plain": [
       "<AxesSubplot:title={'center':'arbitrage spread for coinbase on 2018-01-01'}>"
      ]
     },
     "execution_count": 37,
     "metadata": {},
     "output_type": "execute_result"
    },
    {
     "data": {
      "image/png": "[encoded data removed]",
      "text/plain": [
       "<Figure size 1080x720 with 1 Axes>"
      ]
     },
     "metadata": {
      "needs_background": "light"
     },
     "output_type": "display_data"
    },
    {
     "data": {
      "image/png": "[encoded data removed]",
      "text/plain": [
       "<Figure size 1080x720 with 1 Axes>"
      ]
     },
     "metadata": {
      "needs_background": "light"
     },
     "output_type": "display_data"
    }
   ],
   "source": [
    "# Visualize the arbitrage spread from late in the dataset in a box plot\n",
    "# Be sure to include at least a title with your plot\n",
    "bitstamp_sliced.loc['2018-01-01'].plot(legend=True, kind='box', figsize=(15,10), color= 'blue', title = 'arbitrage spread for bistamp on 2018-01-01', label = 'bitstamp')\n",
    "coinbase_sliced.loc['2018-01-01'].plot(legend= True, kind='box', figsize=(15,10), color='orange', label = 'coinbase', \n",
    "                                       title = 'arbitrage spread for coinbase on 2018-01-01')\n"
   ]
  },
  {
   "cell_type": "markdown",
   "metadata": {},
   "source": [
    "### Step 4: Calculate the Arbitrage Profits\n",
    "\n",
    "Calculate the potential profits for each date that you selected in the previous section. Your goal is to determine whether arbitrage opportunities still exist in the Bitcoin market. Complete the following steps:\n",
    "\n",
    "1. For each of the three dates, measure the arbitrage spread between the two exchanges by subtracting the lower-priced exchange from the higher-priced one. Then use a conditional statement to generate the summary statistics for each arbitrage_spread DataFrame, where the spread is greater than zero.\n",
    "\n",
    "2. For each of the three dates, calculate the spread returns. To do so, divide the instances that have a positive arbitrage spread (that is, a spread greater than zero) by the price of Bitcoin from the exchange you’re buying on (that is, the lower-priced exchange). Review the resulting DataFrame.\n",
    "\n",
    "3. For each of the three dates, narrow down your trading opportunities even further. To do so, determine the number of times your trades with positive returns exceed the 1% minimum threshold that you need to cover your costs.\n",
    "\n",
    "4. Generate the summary statistics of your spread returns that are greater than 1%. How do the average returns compare among the three dates?\n",
    "\n",
    "5. For each of the three dates, calculate the potential profit, in dollars, per trade. To do so, multiply the spread returns that were greater than 1% by the cost of what was purchased. Make sure to drop any missing values from the resulting DataFrame.\n",
    "\n",
    "6. Generate the summary statistics, and plot the results for each of the three DataFrames.\n",
    "\n",
    "7. Calculate the potential arbitrage profits that you can make on each day. To do so, sum the elements in the profit_per_trade DataFrame.\n",
    "\n",
    "8. Using the `cumsum` function, plot the cumulative sum of each of the three DataFrames. Can you identify any patterns or trends in the profits across the three time periods?\n",
    "\n",
    "(NOTE: The starter code displays only one date. You'll want to do this analysis for two additional dates)."
   ]
  },
  {
   "cell_type": "markdown",
   "metadata": {},
   "source": [
    "#### 1. For each of the three dates, measure the arbitrage spread between the two exchanges by subtracting the lower-priced exchange from the higher-priced one. Then use a conditional statement to generate the summary statistics for each arbitrage_spread DataFrame, where the spread is greater than zero."
   ]
  },
  {
   "cell_type": "code",
   "execution_count": 38,
   "metadata": {},
   "outputs": [
    {
     "data": {
      "text/html": [
       "<div>\n",
       "<style scoped>\n",
       "    .dataframe tbody tr th:only-of-type {\n",
       "        vertical-align: middle;\n",
       "    }\n",
       "\n",
       "    .dataframe tbody tr th {\n",
       "        vertical-align: top;\n",
       "    }\n",
       "\n",
       "    .dataframe thead th {\n",
       "        text-align: right;\n",
       "    }\n",
       "</style>\n",
       "<table border=\"1\" class=\"dataframe\">\n",
       "  <thead>\n",
       "    <tr style=\"text-align: right;\">\n",
       "      <th></th>\n",
       "      <th>Close</th>\n",
       "    </tr>\n",
       "  </thead>\n",
       "  <tbody>\n",
       "    <tr>\n",
       "      <th>count</th>\n",
       "      <td>533.000000</td>\n",
       "    </tr>\n",
       "    <tr>\n",
       "      <th>mean</th>\n",
       "      <td>1.795497</td>\n",
       "    </tr>\n",
       "    <tr>\n",
       "      <th>std</th>\n",
       "      <td>1.284731</td>\n",
       "    </tr>\n",
       "    <tr>\n",
       "      <th>min</th>\n",
       "      <td>0.010000</td>\n",
       "    </tr>\n",
       "    <tr>\n",
       "      <th>25%</th>\n",
       "      <td>0.740000</td>\n",
       "    </tr>\n",
       "    <tr>\n",
       "      <th>50%</th>\n",
       "      <td>1.600000</td>\n",
       "    </tr>\n",
       "    <tr>\n",
       "      <th>75%</th>\n",
       "      <td>2.650000</td>\n",
       "    </tr>\n",
       "    <tr>\n",
       "      <th>max</th>\n",
       "      <td>6.410000</td>\n",
       "    </tr>\n",
       "  </tbody>\n",
       "</table>\n",
       "</div>"
      ],
      "text/plain": [
       "            Close\n",
       "count  533.000000\n",
       "mean     1.795497\n",
       "std      1.284731\n",
       "min      0.010000\n",
       "25%      0.740000\n",
       "50%      1.600000\n",
       "75%      2.650000\n",
       "max      6.410000"
      ]
     },
     "execution_count": 38,
     "metadata": {},
     "output_type": "execute_result"
    }
   ],
   "source": [
    "# For the date early in the dataset, measure the arbitrage spread between the two exchanges\n",
    "# by subtracting the lower-priced exchange from the higher-priced one\n",
    "arbitrage_spread_early = coinbase_sliced.loc['2016-08-01'] - bitstamp_sliced.loc['2016-08-01']\n",
    "\n",
    "# Use a conditional statement to generate the summary statistics for each arbitrage_spread DataFrame\n",
    "profitble_trades_early = arbitrage_spread_early[arbitrage_spread_early>0]\n",
    "\n",
    "profitble_trades_early.describe()"
   ]
  },
  {
   "cell_type": "code",
   "execution_count": 39,
   "metadata": {},
   "outputs": [
    {
     "data": {
      "text/html": [
       "<div>\n",
       "<style scoped>\n",
       "    .dataframe tbody tr th:only-of-type {\n",
       "        vertical-align: middle;\n",
       "    }\n",
       "\n",
       "    .dataframe tbody tr th {\n",
       "        vertical-align: top;\n",
       "    }\n",
       "\n",
       "    .dataframe thead th {\n",
       "        text-align: right;\n",
       "    }\n",
       "</style>\n",
       "<table border=\"1\" class=\"dataframe\">\n",
       "  <thead>\n",
       "    <tr style=\"text-align: right;\">\n",
       "      <th></th>\n",
       "      <th>Close</th>\n",
       "    </tr>\n",
       "  </thead>\n",
       "  <tbody>\n",
       "    <tr>\n",
       "      <th>count</th>\n",
       "      <td>1317.000000</td>\n",
       "    </tr>\n",
       "    <tr>\n",
       "      <th>mean</th>\n",
       "      <td>16.447130</td>\n",
       "    </tr>\n",
       "    <tr>\n",
       "      <th>std</th>\n",
       "      <td>11.588122</td>\n",
       "    </tr>\n",
       "    <tr>\n",
       "      <th>min</th>\n",
       "      <td>0.040000</td>\n",
       "    </tr>\n",
       "    <tr>\n",
       "      <th>25%</th>\n",
       "      <td>7.210000</td>\n",
       "    </tr>\n",
       "    <tr>\n",
       "      <th>50%</th>\n",
       "      <td>14.000000</td>\n",
       "    </tr>\n",
       "    <tr>\n",
       "      <th>75%</th>\n",
       "      <td>23.830000</td>\n",
       "    </tr>\n",
       "    <tr>\n",
       "      <th>max</th>\n",
       "      <td>52.510000</td>\n",
       "    </tr>\n",
       "  </tbody>\n",
       "</table>\n",
       "</div>"
      ],
      "text/plain": [
       "             Close\n",
       "count  1317.000000\n",
       "mean     16.447130\n",
       "std      11.588122\n",
       "min       0.040000\n",
       "25%       7.210000\n",
       "50%      14.000000\n",
       "75%      23.830000\n",
       "max      52.510000"
      ]
     },
     "execution_count": 39,
     "metadata": {},
     "output_type": "execute_result"
    }
   ],
   "source": [
    "# For the from the middle of the dataset, measure the arbitrage spread between the two exchanges\n",
    "# by subtracting the lower-priced exchange from the higher-priced one\n",
    "arbitrage_spread_middle = coinbase_sliced.loc['2017-06-01'] - bitstamp_sliced.loc['2017-06-01']\n",
    "\n",
    "# Use a conditional statement to generate the summary statistics for each arbitrage_spread DataFrame\n",
    "profitble_trades_middle = arbitrage_spread_middle[arbitrage_spread_middle>0]\n",
    "profitble_trades_middle.describe()"
   ]
  },
  {
   "cell_type": "code",
   "execution_count": 40,
   "metadata": {},
   "outputs": [
    {
     "data": {
      "text/html": [
       "<div>\n",
       "<style scoped>\n",
       "    .dataframe tbody tr th:only-of-type {\n",
       "        vertical-align: middle;\n",
       "    }\n",
       "\n",
       "    .dataframe tbody tr th {\n",
       "        vertical-align: top;\n",
       "    }\n",
       "\n",
       "    .dataframe thead th {\n",
       "        text-align: right;\n",
       "    }\n",
       "</style>\n",
       "<table border=\"1\" class=\"dataframe\">\n",
       "  <thead>\n",
       "    <tr style=\"text-align: right;\">\n",
       "      <th></th>\n",
       "      <th>Close</th>\n",
       "    </tr>\n",
       "  </thead>\n",
       "  <tbody>\n",
       "    <tr>\n",
       "      <th>count</th>\n",
       "      <td>782.000000</td>\n",
       "    </tr>\n",
       "    <tr>\n",
       "      <th>mean</th>\n",
       "      <td>38.672634</td>\n",
       "    </tr>\n",
       "    <tr>\n",
       "      <th>std</th>\n",
       "      <td>31.451187</td>\n",
       "    </tr>\n",
       "    <tr>\n",
       "      <th>min</th>\n",
       "      <td>0.010000</td>\n",
       "    </tr>\n",
       "    <tr>\n",
       "      <th>25%</th>\n",
       "      <td>15.950000</td>\n",
       "    </tr>\n",
       "    <tr>\n",
       "      <th>50%</th>\n",
       "      <td>32.610000</td>\n",
       "    </tr>\n",
       "    <tr>\n",
       "      <th>75%</th>\n",
       "      <td>53.627500</td>\n",
       "    </tr>\n",
       "    <tr>\n",
       "      <th>max</th>\n",
       "      <td>319.990000</td>\n",
       "    </tr>\n",
       "  </tbody>\n",
       "</table>\n",
       "</div>"
      ],
      "text/plain": [
       "            Close\n",
       "count  782.000000\n",
       "mean    38.672634\n",
       "std     31.451187\n",
       "min      0.010000\n",
       "25%     15.950000\n",
       "50%     32.610000\n",
       "75%     53.627500\n",
       "max    319.990000"
      ]
     },
     "execution_count": 40,
     "metadata": {},
     "output_type": "execute_result"
    }
   ],
   "source": [
    "# For the date late in the dataset, measure the arbitrage spread between the two exchanges\n",
    "# by subtracting the lower-priced exchange from the higher-priced one\n",
    "arbitrage_spread_late = coinbase_sliced.loc['2018-01-01'] - bitstamp_sliced.loc['2018-01-01']\n",
    "\n",
    "# Use a conditional statement to generate the summary statistics for each arbitrage_spread DataFrame\n",
    "profitble_trades_late = arbitrage_spread_late[arbitrage_spread_late>0]\n",
    "profitble_trades_late.describe()\n"
   ]
  },
  {
   "cell_type": "markdown",
   "metadata": {},
   "source": [
    "#### 2. For each of the three dates, calculate the spread returns. To do so, divide the instances that have a positive arbitrage spread (that is, a spread greater than zero) by the price of Bitcoin from the exchange you’re buying on (that is, the lower-priced exchange). Review the resulting DataFrame."
   ]
  },
  {
   "cell_type": "code",
   "execution_count": 41,
   "metadata": {},
   "outputs": [
    {
     "data": {
      "text/html": [
       "<div>\n",
       "<style scoped>\n",
       "    .dataframe tbody tr th:only-of-type {\n",
       "        vertical-align: middle;\n",
       "    }\n",
       "\n",
       "    .dataframe tbody tr th {\n",
       "        vertical-align: top;\n",
       "    }\n",
       "\n",
       "    .dataframe thead th {\n",
       "        text-align: right;\n",
       "    }\n",
       "</style>\n",
       "<table border=\"1\" class=\"dataframe\">\n",
       "  <thead>\n",
       "    <tr style=\"text-align: right;\">\n",
       "      <th></th>\n",
       "      <th>Close</th>\n",
       "    </tr>\n",
       "    <tr>\n",
       "      <th>Timestamp</th>\n",
       "      <th></th>\n",
       "    </tr>\n",
       "  </thead>\n",
       "  <tbody>\n",
       "    <tr>\n",
       "      <th>2016-08-01 00:10:00</th>\n",
       "      <td>0.000129</td>\n",
       "    </tr>\n",
       "    <tr>\n",
       "      <th>2016-08-01 00:11:00</th>\n",
       "      <td>0.000113</td>\n",
       "    </tr>\n",
       "    <tr>\n",
       "      <th>2016-08-01 00:12:00</th>\n",
       "      <td>0.001205</td>\n",
       "    </tr>\n",
       "    <tr>\n",
       "      <th>2016-08-01 00:13:00</th>\n",
       "      <td>0.001222</td>\n",
       "    </tr>\n",
       "    <tr>\n",
       "      <th>2016-08-01 00:25:00</th>\n",
       "      <td>0.002869</td>\n",
       "    </tr>\n",
       "  </tbody>\n",
       "</table>\n",
       "</div>"
      ],
      "text/plain": [
       "                        Close\n",
       "Timestamp                    \n",
       "2016-08-01 00:10:00  0.000129\n",
       "2016-08-01 00:11:00  0.000113\n",
       "2016-08-01 00:12:00  0.001205\n",
       "2016-08-01 00:13:00  0.001222\n",
       "2016-08-01 00:25:00  0.002869"
      ]
     },
     "execution_count": 41,
     "metadata": {},
     "output_type": "execute_result"
    }
   ],
   "source": [
    "# For the date early in the dataset, calculate the spread returns by dividing \n",
    "# the instances when the arbitrage spread is positive (> 0) by the price of Bitcoin \n",
    "# from the exchange you are buying on (the lower-priced exchange)\n",
    "spread_return_early = profitble_trades_early / bitstamp_sliced.loc['2016-08-01']\n",
    "spread_return_early.dropna(inplace=True)\n",
    "# Review the spread return DataFrame\n",
    "spread_return_early.head()\n",
    "\n"
   ]
  },
  {
   "cell_type": "code",
   "execution_count": 42,
   "metadata": {},
   "outputs": [
    {
     "data": {
      "text/html": [
       "<div>\n",
       "<style scoped>\n",
       "    .dataframe tbody tr th:only-of-type {\n",
       "        vertical-align: middle;\n",
       "    }\n",
       "\n",
       "    .dataframe tbody tr th {\n",
       "        vertical-align: top;\n",
       "    }\n",
       "\n",
       "    .dataframe thead th {\n",
       "        text-align: right;\n",
       "    }\n",
       "</style>\n",
       "<table border=\"1\" class=\"dataframe\">\n",
       "  <thead>\n",
       "    <tr style=\"text-align: right;\">\n",
       "      <th></th>\n",
       "      <th>Close</th>\n",
       "    </tr>\n",
       "    <tr>\n",
       "      <th>Timestamp</th>\n",
       "      <th></th>\n",
       "    </tr>\n",
       "  </thead>\n",
       "  <tbody>\n",
       "    <tr>\n",
       "      <th>2017-06-01 00:00:00</th>\n",
       "      <td>0.004802</td>\n",
       "    </tr>\n",
       "    <tr>\n",
       "      <th>2017-06-01 00:01:00</th>\n",
       "      <td>0.004930</td>\n",
       "    </tr>\n",
       "    <tr>\n",
       "      <th>2017-06-01 00:02:00</th>\n",
       "      <td>0.002905</td>\n",
       "    </tr>\n",
       "    <tr>\n",
       "      <th>2017-06-01 00:03:00</th>\n",
       "      <td>0.002918</td>\n",
       "    </tr>\n",
       "    <tr>\n",
       "      <th>2017-06-01 00:04:00</th>\n",
       "      <td>0.003632</td>\n",
       "    </tr>\n",
       "  </tbody>\n",
       "</table>\n",
       "</div>"
      ],
      "text/plain": [
       "                        Close\n",
       "Timestamp                    \n",
       "2017-06-01 00:00:00  0.004802\n",
       "2017-06-01 00:01:00  0.004930\n",
       "2017-06-01 00:02:00  0.002905\n",
       "2017-06-01 00:03:00  0.002918\n",
       "2017-06-01 00:04:00  0.003632"
      ]
     },
     "execution_count": 42,
     "metadata": {},
     "output_type": "execute_result"
    }
   ],
   "source": [
    "# For the date in the middle of the dataset, calculate the spread returns by dividing \n",
    "# the instances when the arbitrage spread is positive (> 0)  by the price of Bitcoin \n",
    "# from the exchange you are buying on (the lower-priced exchange)\n",
    "spread_return_middle =profitble_trades_middle / bitstamp_sliced.loc['2017-06-01']\n",
    "spread_return_middle.dropna(inplace=True)\n",
    "# Review the spread return DataFrame\n",
    "spread_return_middle.head()\n"
   ]
  },
  {
   "cell_type": "code",
   "execution_count": 43,
   "metadata": {},
   "outputs": [
    {
     "data": {
      "text/html": [
       "<div>\n",
       "<style scoped>\n",
       "    .dataframe tbody tr th:only-of-type {\n",
       "        vertical-align: middle;\n",
       "    }\n",
       "\n",
       "    .dataframe tbody tr th {\n",
       "        vertical-align: top;\n",
       "    }\n",
       "\n",
       "    .dataframe thead th {\n",
       "        text-align: right;\n",
       "    }\n",
       "</style>\n",
       "<table border=\"1\" class=\"dataframe\">\n",
       "  <thead>\n",
       "    <tr style=\"text-align: right;\">\n",
       "      <th></th>\n",
       "      <th>Close</th>\n",
       "    </tr>\n",
       "    <tr>\n",
       "      <th>Timestamp</th>\n",
       "      <th></th>\n",
       "    </tr>\n",
       "  </thead>\n",
       "  <tbody>\n",
       "    <tr>\n",
       "      <th>2018-01-01 00:21:00</th>\n",
       "      <td>0.001852</td>\n",
       "    </tr>\n",
       "    <tr>\n",
       "      <th>2018-01-01 00:24:00</th>\n",
       "      <td>0.000371</td>\n",
       "    </tr>\n",
       "    <tr>\n",
       "      <th>2018-01-01 00:26:00</th>\n",
       "      <td>0.000423</td>\n",
       "    </tr>\n",
       "    <tr>\n",
       "      <th>2018-01-01 00:30:00</th>\n",
       "      <td>0.000594</td>\n",
       "    </tr>\n",
       "    <tr>\n",
       "      <th>2018-01-01 00:31:00</th>\n",
       "      <td>0.000886</td>\n",
       "    </tr>\n",
       "  </tbody>\n",
       "</table>\n",
       "</div>"
      ],
      "text/plain": [
       "                        Close\n",
       "Timestamp                    \n",
       "2018-01-01 00:21:00  0.001852\n",
       "2018-01-01 00:24:00  0.000371\n",
       "2018-01-01 00:26:00  0.000423\n",
       "2018-01-01 00:30:00  0.000594\n",
       "2018-01-01 00:31:00  0.000886"
      ]
     },
     "execution_count": 43,
     "metadata": {},
     "output_type": "execute_result"
    }
   ],
   "source": [
    "# For the date late in the dataset, calculate the spread returns by dividing \n",
    "# the instances when the arbitrage spread is positive (> 0)  by the price of Bitcoin \n",
    "# from the exchange you are buying on (the lower-priced exchange)\n",
    "spread_return_late = profitble_trades_late / bitstamp_sliced.loc['2018-01-01']\n",
    "spread_return_late.dropna(inplace=True)\n",
    "# Review the spread return DataFrame\n",
    "spread_return_late.head()"
   ]
  },
  {
   "cell_type": "markdown",
   "metadata": {},
   "source": [
    "#### 3. For each of the three dates, narrow down your trading opportunities even further. To do so, determine the number of times your trades with positive returns exceed the 1% minimum threshold that you need to cover your costs."
   ]
  },
  {
   "cell_type": "code",
   "execution_count": 44,
   "metadata": {},
   "outputs": [
    {
     "data": {
      "text/html": [
       "<div>\n",
       "<style scoped>\n",
       "    .dataframe tbody tr th:only-of-type {\n",
       "        vertical-align: middle;\n",
       "    }\n",
       "\n",
       "    .dataframe tbody tr th {\n",
       "        vertical-align: top;\n",
       "    }\n",
       "\n",
       "    .dataframe thead th {\n",
       "        text-align: right;\n",
       "    }\n",
       "</style>\n",
       "<table border=\"1\" class=\"dataframe\">\n",
       "  <thead>\n",
       "    <tr style=\"text-align: right;\">\n",
       "      <th></th>\n",
       "      <th>Close</th>\n",
       "    </tr>\n",
       "    <tr>\n",
       "      <th>Timestamp</th>\n",
       "      <th></th>\n",
       "    </tr>\n",
       "  </thead>\n",
       "  <tbody>\n",
       "    <tr>\n",
       "      <th>2016-08-01 01:03:00</th>\n",
       "      <td>0.010304</td>\n",
       "    </tr>\n",
       "  </tbody>\n",
       "</table>\n",
       "</div>"
      ],
      "text/plain": [
       "                        Close\n",
       "Timestamp                    \n",
       "2016-08-01 01:03:00  0.010304"
      ]
     },
     "execution_count": 44,
     "metadata": {},
     "output_type": "execute_result"
    }
   ],
   "source": [
    "# For the date early in the dataset, determine the number of times your trades with positive returns \n",
    "# exceed the 1% minimum threshold (.01) that you need to cover your costs\n",
    "profitable_trades_early = spread_return_early[spread_return_early>0.01]\n",
    "profitable_trades_early.dropna(inplace=True)\n",
    "# Review the first five profitable trades\n",
    "profitable_trades_early.head()\n"
   ]
  },
  {
   "cell_type": "code",
   "execution_count": 45,
   "metadata": {},
   "outputs": [
    {
     "data": {
      "text/html": [
       "<div>\n",
       "<style scoped>\n",
       "    .dataframe tbody tr th:only-of-type {\n",
       "        vertical-align: middle;\n",
       "    }\n",
       "\n",
       "    .dataframe tbody tr th {\n",
       "        vertical-align: top;\n",
       "    }\n",
       "\n",
       "    .dataframe thead th {\n",
       "        text-align: right;\n",
       "    }\n",
       "</style>\n",
       "<table border=\"1\" class=\"dataframe\">\n",
       "  <thead>\n",
       "    <tr style=\"text-align: right;\">\n",
       "      <th></th>\n",
       "      <th>Close</th>\n",
       "    </tr>\n",
       "    <tr>\n",
       "      <th>Timestamp</th>\n",
       "      <th></th>\n",
       "    </tr>\n",
       "  </thead>\n",
       "  <tbody>\n",
       "    <tr>\n",
       "      <th>2017-06-01 01:03:00</th>\n",
       "      <td>0.010571</td>\n",
       "    </tr>\n",
       "    <tr>\n",
       "      <th>2017-06-01 01:04:00</th>\n",
       "      <td>0.010563</td>\n",
       "    </tr>\n",
       "    <tr>\n",
       "      <th>2017-06-01 01:05:00</th>\n",
       "      <td>0.011477</td>\n",
       "    </tr>\n",
       "    <tr>\n",
       "      <th>2017-06-01 01:26:00</th>\n",
       "      <td>0.011349</td>\n",
       "    </tr>\n",
       "    <tr>\n",
       "      <th>2017-06-01 01:28:00</th>\n",
       "      <td>0.012063</td>\n",
       "    </tr>\n",
       "  </tbody>\n",
       "</table>\n",
       "</div>"
      ],
      "text/plain": [
       "                        Close\n",
       "Timestamp                    \n",
       "2017-06-01 01:03:00  0.010571\n",
       "2017-06-01 01:04:00  0.010563\n",
       "2017-06-01 01:05:00  0.011477\n",
       "2017-06-01 01:26:00  0.011349\n",
       "2017-06-01 01:28:00  0.012063"
      ]
     },
     "execution_count": 45,
     "metadata": {},
     "output_type": "execute_result"
    }
   ],
   "source": [
    "# For the date in the middle of the dataset, determine the number of times your trades with positive returns \n",
    "# exceed the 1% minimum threshold (.01) that you need to cover your costs\n",
    "profitable_trades_middle = spread_return_middle[spread_return_middle>0.01]\n",
    "profitable_trades_middle.dropna(inplace=True)\n",
    "# Review the first five profitable trades\n",
    "profitable_trades_middle.head()\n"
   ]
  },
  {
   "cell_type": "code",
   "execution_count": 46,
   "metadata": {},
   "outputs": [
    {
     "data": {
      "text/html": [
       "<div>\n",
       "<style scoped>\n",
       "    .dataframe tbody tr th:only-of-type {\n",
       "        vertical-align: middle;\n",
       "    }\n",
       "\n",
       "    .dataframe tbody tr th {\n",
       "        vertical-align: top;\n",
       "    }\n",
       "\n",
       "    .dataframe thead th {\n",
       "        text-align: right;\n",
       "    }\n",
       "</style>\n",
       "<table border=\"1\" class=\"dataframe\">\n",
       "  <thead>\n",
       "    <tr style=\"text-align: right;\">\n",
       "      <th></th>\n",
       "      <th>Close</th>\n",
       "    </tr>\n",
       "  </thead>\n",
       "  <tbody>\n",
       "    <tr>\n",
       "      <th>count</th>\n",
       "      <td>7.000000</td>\n",
       "    </tr>\n",
       "    <tr>\n",
       "      <th>mean</th>\n",
       "      <td>0.015453</td>\n",
       "    </tr>\n",
       "    <tr>\n",
       "      <th>std</th>\n",
       "      <td>0.005833</td>\n",
       "    </tr>\n",
       "    <tr>\n",
       "      <th>min</th>\n",
       "      <td>0.010427</td>\n",
       "    </tr>\n",
       "    <tr>\n",
       "      <th>25%</th>\n",
       "      <td>0.011358</td>\n",
       "    </tr>\n",
       "    <tr>\n",
       "      <th>50%</th>\n",
       "      <td>0.012001</td>\n",
       "    </tr>\n",
       "    <tr>\n",
       "      <th>75%</th>\n",
       "      <td>0.019207</td>\n",
       "    </tr>\n",
       "    <tr>\n",
       "      <th>max</th>\n",
       "      <td>0.024616</td>\n",
       "    </tr>\n",
       "  </tbody>\n",
       "</table>\n",
       "</div>"
      ],
      "text/plain": [
       "          Close\n",
       "count  7.000000\n",
       "mean   0.015453\n",
       "std    0.005833\n",
       "min    0.010427\n",
       "25%    0.011358\n",
       "50%    0.012001\n",
       "75%    0.019207\n",
       "max    0.024616"
      ]
     },
     "execution_count": 46,
     "metadata": {},
     "output_type": "execute_result"
    }
   ],
   "source": [
    "# For the date late in the dataset, determine the number of times your trades with positive returns \n",
    "# exceed the 1% minimum threshold (.01) that you need to cover your costs\n",
    "profitable_trades_late = spread_return_late[spread_return_late>0.01]\n",
    "profitble_trades_late.dropna(inplace=True)\n",
    "# Review the first five profitable trades\n",
    "profitable_trades_late.describe()\n"
   ]
  },
  {
   "cell_type": "markdown",
   "metadata": {},
   "source": [
    "#### 4. Generate the summary statistics of your spread returns that are greater than 1%. How do the average returns compare among the three dates?"
   ]
  },
  {
   "cell_type": "code",
   "execution_count": 47,
   "metadata": {},
   "outputs": [
    {
     "data": {
      "text/html": [
       "<div>\n",
       "<style scoped>\n",
       "    .dataframe tbody tr th:only-of-type {\n",
       "        vertical-align: middle;\n",
       "    }\n",
       "\n",
       "    .dataframe tbody tr th {\n",
       "        vertical-align: top;\n",
       "    }\n",
       "\n",
       "    .dataframe thead th {\n",
       "        text-align: right;\n",
       "    }\n",
       "</style>\n",
       "<table border=\"1\" class=\"dataframe\">\n",
       "  <thead>\n",
       "    <tr style=\"text-align: right;\">\n",
       "      <th></th>\n",
       "      <th>Close</th>\n",
       "    </tr>\n",
       "  </thead>\n",
       "  <tbody>\n",
       "    <tr>\n",
       "      <th>count</th>\n",
       "      <td>1.000000</td>\n",
       "    </tr>\n",
       "    <tr>\n",
       "      <th>mean</th>\n",
       "      <td>0.010304</td>\n",
       "    </tr>\n",
       "    <tr>\n",
       "      <th>std</th>\n",
       "      <td>NaN</td>\n",
       "    </tr>\n",
       "    <tr>\n",
       "      <th>min</th>\n",
       "      <td>0.010304</td>\n",
       "    </tr>\n",
       "    <tr>\n",
       "      <th>25%</th>\n",
       "      <td>0.010304</td>\n",
       "    </tr>\n",
       "    <tr>\n",
       "      <th>50%</th>\n",
       "      <td>0.010304</td>\n",
       "    </tr>\n",
       "    <tr>\n",
       "      <th>75%</th>\n",
       "      <td>0.010304</td>\n",
       "    </tr>\n",
       "    <tr>\n",
       "      <th>max</th>\n",
       "      <td>0.010304</td>\n",
       "    </tr>\n",
       "  </tbody>\n",
       "</table>\n",
       "</div>"
      ],
      "text/plain": [
       "          Close\n",
       "count  1.000000\n",
       "mean   0.010304\n",
       "std         NaN\n",
       "min    0.010304\n",
       "25%    0.010304\n",
       "50%    0.010304\n",
       "75%    0.010304\n",
       "max    0.010304"
      ]
     },
     "execution_count": 47,
     "metadata": {},
     "output_type": "execute_result"
    }
   ],
   "source": [
    "# For the date early in the dataset, generate the summary statistics for the profitable trades\n",
    "# or you trades where the spread returns are are greater than 1%\n",
    "profitable_trades_early.describe()\n"
   ]
  },
  {
   "cell_type": "code",
   "execution_count": 48,
   "metadata": {},
   "outputs": [
    {
     "data": {
      "text/html": [
       "<div>\n",
       "<style scoped>\n",
       "    .dataframe tbody tr th:only-of-type {\n",
       "        vertical-align: middle;\n",
       "    }\n",
       "\n",
       "    .dataframe tbody tr th {\n",
       "        vertical-align: top;\n",
       "    }\n",
       "\n",
       "    .dataframe thead th {\n",
       "        text-align: right;\n",
       "    }\n",
       "</style>\n",
       "<table border=\"1\" class=\"dataframe\">\n",
       "  <thead>\n",
       "    <tr style=\"text-align: right;\">\n",
       "      <th></th>\n",
       "      <th>Close</th>\n",
       "    </tr>\n",
       "  </thead>\n",
       "  <tbody>\n",
       "    <tr>\n",
       "      <th>count</th>\n",
       "      <td>315.000000</td>\n",
       "    </tr>\n",
       "    <tr>\n",
       "      <th>mean</th>\n",
       "      <td>0.013733</td>\n",
       "    </tr>\n",
       "    <tr>\n",
       "      <th>std</th>\n",
       "      <td>0.003252</td>\n",
       "    </tr>\n",
       "    <tr>\n",
       "      <th>min</th>\n",
       "      <td>0.010022</td>\n",
       "    </tr>\n",
       "    <tr>\n",
       "      <th>25%</th>\n",
       "      <td>0.010953</td>\n",
       "    </tr>\n",
       "    <tr>\n",
       "      <th>50%</th>\n",
       "      <td>0.012711</td>\n",
       "    </tr>\n",
       "    <tr>\n",
       "      <th>75%</th>\n",
       "      <td>0.016139</td>\n",
       "    </tr>\n",
       "    <tr>\n",
       "      <th>max</th>\n",
       "      <td>0.021631</td>\n",
       "    </tr>\n",
       "  </tbody>\n",
       "</table>\n",
       "</div>"
      ],
      "text/plain": [
       "            Close\n",
       "count  315.000000\n",
       "mean     0.013733\n",
       "std      0.003252\n",
       "min      0.010022\n",
       "25%      0.010953\n",
       "50%      0.012711\n",
       "75%      0.016139\n",
       "max      0.021631"
      ]
     },
     "execution_count": 48,
     "metadata": {},
     "output_type": "execute_result"
    }
   ],
   "source": [
    "# For the date in the middle of the dataset, generate the summary statistics for the profitable trades\n",
    "# or you trades where the spread returns are are greater than 1%\n",
    "profitable_trades_middle.describe()\n"
   ]
  },
  {
   "cell_type": "code",
   "execution_count": 49,
   "metadata": {},
   "outputs": [
    {
     "data": {
      "text/html": [
       "<div>\n",
       "<style scoped>\n",
       "    .dataframe tbody tr th:only-of-type {\n",
       "        vertical-align: middle;\n",
       "    }\n",
       "\n",
       "    .dataframe tbody tr th {\n",
       "        vertical-align: top;\n",
       "    }\n",
       "\n",
       "    .dataframe thead th {\n",
       "        text-align: right;\n",
       "    }\n",
       "</style>\n",
       "<table border=\"1\" class=\"dataframe\">\n",
       "  <thead>\n",
       "    <tr style=\"text-align: right;\">\n",
       "      <th></th>\n",
       "      <th>Close</th>\n",
       "    </tr>\n",
       "  </thead>\n",
       "  <tbody>\n",
       "    <tr>\n",
       "      <th>count</th>\n",
       "      <td>7.000000</td>\n",
       "    </tr>\n",
       "    <tr>\n",
       "      <th>mean</th>\n",
       "      <td>0.015453</td>\n",
       "    </tr>\n",
       "    <tr>\n",
       "      <th>std</th>\n",
       "      <td>0.005833</td>\n",
       "    </tr>\n",
       "    <tr>\n",
       "      <th>min</th>\n",
       "      <td>0.010427</td>\n",
       "    </tr>\n",
       "    <tr>\n",
       "      <th>25%</th>\n",
       "      <td>0.011358</td>\n",
       "    </tr>\n",
       "    <tr>\n",
       "      <th>50%</th>\n",
       "      <td>0.012001</td>\n",
       "    </tr>\n",
       "    <tr>\n",
       "      <th>75%</th>\n",
       "      <td>0.019207</td>\n",
       "    </tr>\n",
       "    <tr>\n",
       "      <th>max</th>\n",
       "      <td>0.024616</td>\n",
       "    </tr>\n",
       "  </tbody>\n",
       "</table>\n",
       "</div>"
      ],
      "text/plain": [
       "          Close\n",
       "count  7.000000\n",
       "mean   0.015453\n",
       "std    0.005833\n",
       "min    0.010427\n",
       "25%    0.011358\n",
       "50%    0.012001\n",
       "75%    0.019207\n",
       "max    0.024616"
      ]
     },
     "execution_count": 49,
     "metadata": {},
     "output_type": "execute_result"
    }
   ],
   "source": [
    "# For the date late in the dataset, generate the summary statistics for the profitable trades\n",
    "# or you trades where the spread returns are are greater than 1%\n",
    "profitable_trades_late.describe()\n"
   ]
  },
  {
   "cell_type": "markdown",
   "metadata": {},
   "source": [
    "#### 5. For each of the three dates, calculate the potential profit, in dollars, per trade. To do so, multiply the spread returns that were greater than 1% by the cost of what was purchased. Make sure to drop any missing values from the resulting DataFrame."
   ]
  },
  {
   "cell_type": "code",
   "execution_count": 50,
   "metadata": {},
   "outputs": [
    {
     "data": {
      "text/html": [
       "<div>\n",
       "<style scoped>\n",
       "    .dataframe tbody tr th:only-of-type {\n",
       "        vertical-align: middle;\n",
       "    }\n",
       "\n",
       "    .dataframe tbody tr th {\n",
       "        vertical-align: top;\n",
       "    }\n",
       "\n",
       "    .dataframe thead th {\n",
       "        text-align: right;\n",
       "    }\n",
       "</style>\n",
       "<table border=\"1\" class=\"dataframe\">\n",
       "  <thead>\n",
       "    <tr style=\"text-align: right;\">\n",
       "      <th></th>\n",
       "      <th>Close</th>\n",
       "    </tr>\n",
       "    <tr>\n",
       "      <th>Timestamp</th>\n",
       "      <th></th>\n",
       "    </tr>\n",
       "  </thead>\n",
       "  <tbody>\n",
       "    <tr>\n",
       "      <th>2016-08-01 01:03:00</th>\n",
       "      <td>6.41</td>\n",
       "    </tr>\n",
       "  </tbody>\n",
       "</table>\n",
       "</div>"
      ],
      "text/plain": [
       "                     Close\n",
       "Timestamp                 \n",
       "2016-08-01 01:03:00   6.41"
      ]
     },
     "execution_count": 50,
     "metadata": {},
     "output_type": "execute_result"
    }
   ],
   "source": [
    "# For the date early in the dataset, calculate the potential profit per trade in dollars \n",
    "# Multiply the profitable trades by the cost of the Bitcoin that was purchased\n",
    "profit_early = profitable_trades_early * bitstamp_sliced.loc['2016-08-01']\n",
    "\n",
    "# Drop any missing values from the profit DataFrame\n",
    "profit_per_trade_early = profit_early.dropna()\n",
    "\n",
    "# View the early profit DataFrame\n",
    "profit_per_trade_early\n"
   ]
  },
  {
   "cell_type": "code",
   "execution_count": 51,
   "metadata": {},
   "outputs": [
    {
     "data": {
      "text/html": [
       "<div>\n",
       "<style scoped>\n",
       "    .dataframe tbody tr th:only-of-type {\n",
       "        vertical-align: middle;\n",
       "    }\n",
       "\n",
       "    .dataframe tbody tr th {\n",
       "        vertical-align: top;\n",
       "    }\n",
       "\n",
       "    .dataframe thead th {\n",
       "        text-align: right;\n",
       "    }\n",
       "</style>\n",
       "<table border=\"1\" class=\"dataframe\">\n",
       "  <thead>\n",
       "    <tr style=\"text-align: right;\">\n",
       "      <th></th>\n",
       "      <th>Close</th>\n",
       "    </tr>\n",
       "    <tr>\n",
       "      <th>Timestamp</th>\n",
       "      <th></th>\n",
       "    </tr>\n",
       "  </thead>\n",
       "  <tbody>\n",
       "    <tr>\n",
       "      <th>2017-06-01 01:03:00</th>\n",
       "      <td>25.21</td>\n",
       "    </tr>\n",
       "    <tr>\n",
       "      <th>2017-06-01 01:04:00</th>\n",
       "      <td>25.19</td>\n",
       "    </tr>\n",
       "    <tr>\n",
       "      <th>2017-06-01 01:05:00</th>\n",
       "      <td>27.29</td>\n",
       "    </tr>\n",
       "    <tr>\n",
       "      <th>2017-06-01 01:26:00</th>\n",
       "      <td>27.00</td>\n",
       "    </tr>\n",
       "    <tr>\n",
       "      <th>2017-06-01 01:28:00</th>\n",
       "      <td>28.65</td>\n",
       "    </tr>\n",
       "    <tr>\n",
       "      <th>...</th>\n",
       "      <td>...</td>\n",
       "    </tr>\n",
       "    <tr>\n",
       "      <th>2017-06-01 11:22:00</th>\n",
       "      <td>28.30</td>\n",
       "    </tr>\n",
       "    <tr>\n",
       "      <th>2017-06-01 19:06:00</th>\n",
       "      <td>28.43</td>\n",
       "    </tr>\n",
       "    <tr>\n",
       "      <th>2017-06-01 19:15:00</th>\n",
       "      <td>24.77</td>\n",
       "    </tr>\n",
       "    <tr>\n",
       "      <th>2017-06-01 19:16:00</th>\n",
       "      <td>24.75</td>\n",
       "    </tr>\n",
       "    <tr>\n",
       "      <th>2017-06-01 19:21:00</th>\n",
       "      <td>25.24</td>\n",
       "    </tr>\n",
       "  </tbody>\n",
       "</table>\n",
       "<p>315 rows × 1 columns</p>\n",
       "</div>"
      ],
      "text/plain": [
       "                     Close\n",
       "Timestamp                 \n",
       "2017-06-01 01:03:00  25.21\n",
       "2017-06-01 01:04:00  25.19\n",
       "2017-06-01 01:05:00  27.29\n",
       "2017-06-01 01:26:00  27.00\n",
       "2017-06-01 01:28:00  28.65\n",
       "...                    ...\n",
       "2017-06-01 11:22:00  28.30\n",
       "2017-06-01 19:06:00  28.43\n",
       "2017-06-01 19:15:00  24.77\n",
       "2017-06-01 19:16:00  24.75\n",
       "2017-06-01 19:21:00  25.24\n",
       "\n",
       "[315 rows x 1 columns]"
      ]
     },
     "execution_count": 51,
     "metadata": {},
     "output_type": "execute_result"
    }
   ],
   "source": [
    "# For the date in the middle of the dataset, calculate the potential profit per trade in dollars \n",
    "# Multiply the profitable trades by the cost of the Bitcoin that was purchased\n",
    "profit_middle = profitable_trades_middle * bitstamp_sliced.loc['2017-06-01']\n",
    "\n",
    "# Drop any missing values from the profit DataFrame\n",
    "profit_per_trade_middle = profit_middle.dropna()\n",
    "\n",
    "# View the early profit DataFrame\n",
    "profit_per_trade_middle"
   ]
  },
  {
   "cell_type": "code",
   "execution_count": 52,
   "metadata": {},
   "outputs": [
    {
     "data": {
      "text/html": [
       "<div>\n",
       "<style scoped>\n",
       "    .dataframe tbody tr th:only-of-type {\n",
       "        vertical-align: middle;\n",
       "    }\n",
       "\n",
       "    .dataframe tbody tr th {\n",
       "        vertical-align: top;\n",
       "    }\n",
       "\n",
       "    .dataframe thead th {\n",
       "        text-align: right;\n",
       "    }\n",
       "</style>\n",
       "<table border=\"1\" class=\"dataframe\">\n",
       "  <thead>\n",
       "    <tr style=\"text-align: right;\">\n",
       "      <th></th>\n",
       "      <th>Close</th>\n",
       "    </tr>\n",
       "    <tr>\n",
       "      <th>Timestamp</th>\n",
       "      <th></th>\n",
       "    </tr>\n",
       "  </thead>\n",
       "  <tbody>\n",
       "    <tr>\n",
       "      <th>2018-01-01 09:10:00</th>\n",
       "      <td>147.33</td>\n",
       "    </tr>\n",
       "    <tr>\n",
       "      <th>2018-01-01 23:25:00</th>\n",
       "      <td>293.89</td>\n",
       "    </tr>\n",
       "    <tr>\n",
       "      <th>2018-01-01 23:26:00</th>\n",
       "      <td>319.99</td>\n",
       "    </tr>\n",
       "    <tr>\n",
       "      <th>2018-01-01 23:27:00</th>\n",
       "      <td>207.33</td>\n",
       "    </tr>\n",
       "    <tr>\n",
       "      <th>2018-01-01 23:28:00</th>\n",
       "      <td>146.82</td>\n",
       "    </tr>\n",
       "    <tr>\n",
       "      <th>2018-01-01 23:29:00</th>\n",
       "      <td>155.86</td>\n",
       "    </tr>\n",
       "    <tr>\n",
       "      <th>2018-01-01 23:31:00</th>\n",
       "      <td>135.18</td>\n",
       "    </tr>\n",
       "  </tbody>\n",
       "</table>\n",
       "</div>"
      ],
      "text/plain": [
       "                      Close\n",
       "Timestamp                  \n",
       "2018-01-01 09:10:00  147.33\n",
       "2018-01-01 23:25:00  293.89\n",
       "2018-01-01 23:26:00  319.99\n",
       "2018-01-01 23:27:00  207.33\n",
       "2018-01-01 23:28:00  146.82\n",
       "2018-01-01 23:29:00  155.86\n",
       "2018-01-01 23:31:00  135.18"
      ]
     },
     "execution_count": 52,
     "metadata": {},
     "output_type": "execute_result"
    }
   ],
   "source": [
    "# For the date late in the dataset, calculate the potential profit per trade in dollars \n",
    "# Multiply the profitable trades by the cost of the Bitcoin that was purchased\n",
    "profit_late = profitable_trades_late * bitstamp_sliced.loc['2018-01-01']\n",
    "\n",
    "# Drop any missing values from the profit DataFrame\n",
    "profit_per_trade_late = profit_late.dropna()\n",
    "\n",
    "# View the early profit DataFrame\n",
    "profit_per_trade_late"
   ]
  },
  {
   "cell_type": "markdown",
   "metadata": {},
   "source": [
    "#### 6. Generate the summary statistics, and plot the results for each of the three DataFrames."
   ]
  },
  {
   "cell_type": "code",
   "execution_count": 53,
   "metadata": {},
   "outputs": [
    {
     "data": {
      "text/html": [
       "<div>\n",
       "<style scoped>\n",
       "    .dataframe tbody tr th:only-of-type {\n",
       "        vertical-align: middle;\n",
       "    }\n",
       "\n",
       "    .dataframe tbody tr th {\n",
       "        vertical-align: top;\n",
       "    }\n",
       "\n",
       "    .dataframe thead th {\n",
       "        text-align: right;\n",
       "    }\n",
       "</style>\n",
       "<table border=\"1\" class=\"dataframe\">\n",
       "  <thead>\n",
       "    <tr style=\"text-align: right;\">\n",
       "      <th></th>\n",
       "      <th>Close</th>\n",
       "    </tr>\n",
       "  </thead>\n",
       "  <tbody>\n",
       "    <tr>\n",
       "      <th>count</th>\n",
       "      <td>1.00</td>\n",
       "    </tr>\n",
       "    <tr>\n",
       "      <th>mean</th>\n",
       "      <td>6.41</td>\n",
       "    </tr>\n",
       "    <tr>\n",
       "      <th>std</th>\n",
       "      <td>NaN</td>\n",
       "    </tr>\n",
       "    <tr>\n",
       "      <th>min</th>\n",
       "      <td>6.41</td>\n",
       "    </tr>\n",
       "    <tr>\n",
       "      <th>25%</th>\n",
       "      <td>6.41</td>\n",
       "    </tr>\n",
       "    <tr>\n",
       "      <th>50%</th>\n",
       "      <td>6.41</td>\n",
       "    </tr>\n",
       "    <tr>\n",
       "      <th>75%</th>\n",
       "      <td>6.41</td>\n",
       "    </tr>\n",
       "    <tr>\n",
       "      <th>max</th>\n",
       "      <td>6.41</td>\n",
       "    </tr>\n",
       "  </tbody>\n",
       "</table>\n",
       "</div>"
      ],
      "text/plain": [
       "       Close\n",
       "count   1.00\n",
       "mean    6.41\n",
       "std      NaN\n",
       "min     6.41\n",
       "25%     6.41\n",
       "50%     6.41\n",
       "75%     6.41\n",
       "max     6.41"
      ]
     },
     "execution_count": 53,
     "metadata": {},
     "output_type": "execute_result"
    }
   ],
   "source": [
    "# Generate the summary statistics for the early profit per trade DataFrame\n",
    "profit_per_trade_early.describe()\n"
   ]
  },
  {
   "cell_type": "code",
   "execution_count": 54,
   "metadata": {},
   "outputs": [
    {
     "data": {
      "text/plain": [
       "<AxesSubplot:title={'center':'Profit per trade on 2016-08-01'}, xlabel='Timestamp'>"
      ]
     },
     "execution_count": 54,
     "metadata": {},
     "output_type": "execute_result"
    },
    {
     "data": {
      "image/png": "[encoded data removed]",
      "text/plain": [
       "<Figure size 720x504 with 1 Axes>"
      ]
     },
     "metadata": {
      "needs_background": "light"
     },
     "output_type": "display_data"
    }
   ],
   "source": [
    "# Plot the results for the early profit per trade DataFrame\n",
    "# Be sure to include at least a title with your plot\n",
    "profit_per_trade_early.plot(figsize=(10,7), title='Profit per trade on 2016-08-01', kind='bar')\n"
   ]
  },
  {
   "cell_type": "code",
   "execution_count": 55,
   "metadata": {},
   "outputs": [
    {
     "data": {
      "text/html": [
       "<div>\n",
       "<style scoped>\n",
       "    .dataframe tbody tr th:only-of-type {\n",
       "        vertical-align: middle;\n",
       "    }\n",
       "\n",
       "    .dataframe tbody tr th {\n",
       "        vertical-align: top;\n",
       "    }\n",
       "\n",
       "    .dataframe thead th {\n",
       "        text-align: right;\n",
       "    }\n",
       "</style>\n",
       "<table border=\"1\" class=\"dataframe\">\n",
       "  <thead>\n",
       "    <tr style=\"text-align: right;\">\n",
       "      <th></th>\n",
       "      <th>Close</th>\n",
       "    </tr>\n",
       "  </thead>\n",
       "  <tbody>\n",
       "    <tr>\n",
       "      <th>count</th>\n",
       "      <td>315.000000</td>\n",
       "    </tr>\n",
       "    <tr>\n",
       "      <th>mean</th>\n",
       "      <td>33.131460</td>\n",
       "    </tr>\n",
       "    <tr>\n",
       "      <th>std</th>\n",
       "      <td>7.869171</td>\n",
       "    </tr>\n",
       "    <tr>\n",
       "      <th>min</th>\n",
       "      <td>23.840000</td>\n",
       "    </tr>\n",
       "    <tr>\n",
       "      <th>25%</th>\n",
       "      <td>26.395000</td>\n",
       "    </tr>\n",
       "    <tr>\n",
       "      <th>50%</th>\n",
       "      <td>30.430000</td>\n",
       "    </tr>\n",
       "    <tr>\n",
       "      <th>75%</th>\n",
       "      <td>39.060000</td>\n",
       "    </tr>\n",
       "    <tr>\n",
       "      <th>max</th>\n",
       "      <td>52.510000</td>\n",
       "    </tr>\n",
       "  </tbody>\n",
       "</table>\n",
       "</div>"
      ],
      "text/plain": [
       "            Close\n",
       "count  315.000000\n",
       "mean    33.131460\n",
       "std      7.869171\n",
       "min     23.840000\n",
       "25%     26.395000\n",
       "50%     30.430000\n",
       "75%     39.060000\n",
       "max     52.510000"
      ]
     },
     "execution_count": 55,
     "metadata": {},
     "output_type": "execute_result"
    }
   ],
   "source": [
    "# Generate the summary statistics for the middle profit per trade DataFrame\n",
    "profit_per_trade_middle.describe()\n"
   ]
  },
  {
   "cell_type": "code",
   "execution_count": 56,
   "metadata": {},
   "outputs": [
    {
     "data": {
      "text/plain": [
       "<AxesSubplot:title={'center':'Profit per trade on 2017-06-01'}, xlabel='Timestamp'>"
      ]
     },
     "execution_count": 56,
     "metadata": {},
     "output_type": "execute_result"
    },
    {
     "data": {
      "image/png": "[encoded data removed]",
      "text/plain": [
       "<Figure size 1440x720 with 1 Axes>"
      ]
     },
     "metadata": {
      "needs_background": "light"
     },
     "output_type": "display_data"
    }
   ],
   "source": [
    "# Plot the results for the middle profit per trade DataFrame\n",
    "# Be sure to include at least a title with your plot\n",
    "profit_per_trade_middle.plot( figsize=(20,10), title='Profit per trade on 2017-06-01', label='profit per trade')\n"
   ]
  },
  {
   "cell_type": "code",
   "execution_count": 57,
   "metadata": {},
   "outputs": [
    {
     "data": {
      "text/html": [
       "<div>\n",
       "<style scoped>\n",
       "    .dataframe tbody tr th:only-of-type {\n",
       "        vertical-align: middle;\n",
       "    }\n",
       "\n",
       "    .dataframe tbody tr th {\n",
       "        vertical-align: top;\n",
       "    }\n",
       "\n",
       "    .dataframe thead th {\n",
       "        text-align: right;\n",
       "    }\n",
       "</style>\n",
       "<table border=\"1\" class=\"dataframe\">\n",
       "  <thead>\n",
       "    <tr style=\"text-align: right;\">\n",
       "      <th></th>\n",
       "      <th>Close</th>\n",
       "    </tr>\n",
       "  </thead>\n",
       "  <tbody>\n",
       "    <tr>\n",
       "      <th>count</th>\n",
       "      <td>7.000000</td>\n",
       "    </tr>\n",
       "    <tr>\n",
       "      <th>mean</th>\n",
       "      <td>200.914286</td>\n",
       "    </tr>\n",
       "    <tr>\n",
       "      <th>std</th>\n",
       "      <td>76.390469</td>\n",
       "    </tr>\n",
       "    <tr>\n",
       "      <th>min</th>\n",
       "      <td>135.180000</td>\n",
       "    </tr>\n",
       "    <tr>\n",
       "      <th>25%</th>\n",
       "      <td>147.075000</td>\n",
       "    </tr>\n",
       "    <tr>\n",
       "      <th>50%</th>\n",
       "      <td>155.860000</td>\n",
       "    </tr>\n",
       "    <tr>\n",
       "      <th>75%</th>\n",
       "      <td>250.610000</td>\n",
       "    </tr>\n",
       "    <tr>\n",
       "      <th>max</th>\n",
       "      <td>319.990000</td>\n",
       "    </tr>\n",
       "  </tbody>\n",
       "</table>\n",
       "</div>"
      ],
      "text/plain": [
       "            Close\n",
       "count    7.000000\n",
       "mean   200.914286\n",
       "std     76.390469\n",
       "min    135.180000\n",
       "25%    147.075000\n",
       "50%    155.860000\n",
       "75%    250.610000\n",
       "max    319.990000"
      ]
     },
     "execution_count": 57,
     "metadata": {},
     "output_type": "execute_result"
    }
   ],
   "source": [
    "# Generate the summary statistics for the late profit per trade DataFrame\n",
    "profit_per_trade_late.describe()"
   ]
  },
  {
   "cell_type": "code",
   "execution_count": 58,
   "metadata": {},
   "outputs": [
    {
     "data": {
      "text/plain": [
       "<AxesSubplot:title={'center':'Profit per trade on 2018-01-01'}, xlabel='Timestamp'>"
      ]
     },
     "execution_count": 58,
     "metadata": {},
     "output_type": "execute_result"
    },
    {
     "data": {
      "image/png": "[encoded data removed]",
      "text/plain": [
       "<Figure size 1440x720 with 1 Axes>"
      ]
     },
     "metadata": {
      "needs_background": "light"
     },
     "output_type": "display_data"
    }
   ],
   "source": [
    "# Plot the results for the late profit per trade DataFrame\n",
    "# Be sure to include at least a title with your plot\n",
    "profit_per_trade_late.plot(kind='bar', figsize=(20,10), title='Profit per trade on 2018-01-01')\n"
   ]
  },
  {
   "cell_type": "markdown",
   "metadata": {},
   "source": [
    "#### 7. Calculate the potential arbitrage profits that you can make on each day. To do so, sum the elements in the profit_per_trade DataFrame."
   ]
  },
  {
   "cell_type": "code",
   "execution_count": 59,
   "metadata": {},
   "outputs": [
    {
     "data": {
      "text/plain": [
       "Close    6.41\n",
       "dtype: float64"
      ]
     },
     "execution_count": 59,
     "metadata": {},
     "output_type": "execute_result"
    }
   ],
   "source": [
    "# Calculate the sum of the potential profits for the early profit per trade DataFrame\n",
    "profit_early_sum = profit_per_trade_early.sum()\n",
    "profit_early_sum"
   ]
  },
  {
   "cell_type": "code",
   "execution_count": 60,
   "metadata": {},
   "outputs": [
    {
     "data": {
      "text/plain": [
       "Close    10436.41\n",
       "dtype: float64"
      ]
     },
     "execution_count": 60,
     "metadata": {},
     "output_type": "execute_result"
    }
   ],
   "source": [
    "# Calculate the sum of the potential profits for the middle profit per trade DataFrame\n",
    "profit_middle_sum = profit_per_trade_middle.sum()\n",
    "profit_middle_sum"
   ]
  },
  {
   "cell_type": "code",
   "execution_count": 61,
   "metadata": {},
   "outputs": [
    {
     "data": {
      "text/plain": [
       "Close    1406.4\n",
       "dtype: float64"
      ]
     },
     "execution_count": 61,
     "metadata": {},
     "output_type": "execute_result"
    }
   ],
   "source": [
    "# Calculate the sum of the potential profits for the late profit per trade DataFrame\n",
    "profit_late_sum = profit_per_trade_late.sum()\n",
    "profit_late_sum"
   ]
  },
  {
   "cell_type": "markdown",
   "metadata": {},
   "source": [
    "#### 8. Using the `cumsum` function, plot the cumulative sum of each of the three DataFrames. Can you identify any patterns or trends in the profits across the three time periods?"
   ]
  },
  {
   "cell_type": "code",
   "execution_count": 62,
   "metadata": {},
   "outputs": [
    {
     "data": {
      "text/plain": [
       "Close    6.41\n",
       "dtype: float64"
      ]
     },
     "execution_count": 62,
     "metadata": {},
     "output_type": "execute_result"
    }
   ],
   "source": [
    "# Use the cumsum function to calculate the cumulative profits over time for the early profit per trade DataFrame\n",
    "cumulative_profit_early = profit_early_sum.cumsum()\n",
    "cumulative_profit_early"
   ]
  },
  {
   "cell_type": "code",
   "execution_count": 63,
   "metadata": {},
   "outputs": [
    {
     "data": {
      "text/plain": [
       "<AxesSubplot:title={'center':'Cumulated profit on 2016-08-01'}>"
      ]
     },
     "execution_count": 63,
     "metadata": {},
     "output_type": "execute_result"
    },
    {
     "data": {
      "image/png": "[encoded data removed]",
      "text/plain": [
       "<Figure size 720x504 with 1 Axes>"
      ]
     },
     "metadata": {
      "needs_background": "light"
     },
     "output_type": "display_data"
    }
   ],
   "source": [
    "# Plot the cumulative sum of profits for the early profit per trade DataFrame\n",
    "# Be sure to include at least a title with your plot\n",
    "cumulative_profit_early.plot(kind='bar', title='Cumulated profit on 2016-08-01', figsize=(10,7))"
   ]
  },
  {
   "cell_type": "code",
   "execution_count": 64,
   "metadata": {},
   "outputs": [
    {
     "data": {
      "text/plain": [
       "Close    10436.41\n",
       "dtype: float64"
      ]
     },
     "execution_count": 64,
     "metadata": {},
     "output_type": "execute_result"
    }
   ],
   "source": [
    "# Use the cumsum function to calculate the cumulative profits over time for the middle profit per trade DataFrame\n",
    "cumulative_profit_middle = profit_middle_sum.cumsum()\n",
    "cumulative_profit_middle"
   ]
  },
  {
   "cell_type": "code",
   "execution_count": 65,
   "metadata": {},
   "outputs": [
    {
     "data": {
      "text/plain": [
       "<AxesSubplot:title={'center':'Cumulated profit on 2017-06-01'}>"
      ]
     },
     "execution_count": 65,
     "metadata": {},
     "output_type": "execute_result"
    },
    {
     "data": {
      "image/png": "[encoded data removed]",
      "text/plain": [
       "<Figure size 1080x720 with 1 Axes>"
      ]
     },
     "metadata": {
      "needs_background": "light"
     },
     "output_type": "display_data"
    }
   ],
   "source": [
    "# Plot the cumulative sum of profits for the early profit per trade DataFrame\n",
    "# Be sure to include at least a title with your plot\n",
    "cumulative_profit_middle.plot(kind='bar', figsize=(15,10), title='Cumulated profit on 2017-06-01')\n"
   ]
  },
  {
   "cell_type": "code",
   "execution_count": 66,
   "metadata": {},
   "outputs": [
    {
     "data": {
      "text/plain": [
       "Close    1406.4\n",
       "dtype: float64"
      ]
     },
     "execution_count": 66,
     "metadata": {},
     "output_type": "execute_result"
    }
   ],
   "source": [
    "# Use the cumsum function to calculate the cumulative profits over time for the late profit per trade DataFrame\n",
    "cumulative_profit_late = profit_late_sum.cumsum()\n",
    "cumulative_profit_late\n"
   ]
  },
  {
   "cell_type": "code",
   "execution_count": 67,
   "metadata": {},
   "outputs": [
    {
     "data": {
      "text/plain": [
       "<AxesSubplot:title={'center':'Cumulated profit on 2018-01-01'}>"
      ]
     },
     "execution_count": 67,
     "metadata": {},
     "output_type": "execute_result"
    },
    {
     "data": {
      "image/png": "[encoded data removed]",
      "text/plain": [
       "<Figure size 1080x720 with 1 Axes>"
      ]
     },
     "metadata": {
      "needs_background": "light"
     },
     "output_type": "display_data"
    }
   ],
   "source": [
    "# Plot the cumulative sum of profits for the early profit per trade DataFrame\n",
    "# Be sure to include at least a title with your plot\n",
    "cumulative_profit_late.plot(kind='bar', figsize=(15,10), title='Cumulated profit on 2018-01-01')\n"
   ]
  },
  {
   "cell_type": "markdown",
   "metadata": {},
   "source": [
    "**Question:** After reviewing the profit information across each date from the different time periods, can you identify any patterns or trends?\n",
    "    \n",
    "**Answer:** Arbitrage profits are extremely hard to come by at the market for Bitcoin matures across time. As Bitcoin grows in populatiry, the prices across the two exhanges trade more in line with one another. That makes is very difficult find a point where the price difference exceeds the minimum profit threshold of 1%."
   ]
  },
  {
   "cell_type": "markdown",
   "metadata": {},
   "source": [
    "Summary:\n",
    "\n",
    "The whole purpose of this program is to find if there's a possible and easy way to arbitrage trade two crypto currencies.\n",
    "\n",
    "Along with coding, I can tell there're no significant changes between these two crypto currencies according to the 'bitstamp vs. coinbase' graph. It seems like their moving trends are the same, therefore, it is too hard to find a spot to make the trade with significant profit potential inside.\n",
    "\n",
    "When it comes to the middle part of the code, I can find some periods that both crypto currencies are very volatile in the middle of the data. But their moving trend becomes very narrow at the end of the data.\n",
    "\n",
    "According to graph 'Profit per trade on 2017-06-01', the number of profitable trades that can cover the cost increased. \n",
    "\n",
    "But it is still difficult to find a point where the price difference exceeds the minimum profit threshold of 1%."
   ]
  }
 ],
 "metadata": {
  "kernelspec": {
   "display_name": "python (dev)",
   "language": "python",
   "name": "dev"
  },
  "language_info": {
   "codemirror_mode": {
    "name": "ipython",
    "version": 3
   },
   "file_extension": ".py",
   "mimetype": "text/x-python",
   "name": "python",
   "nbconvert_exporter": "python",
   "pygments_lexer": "ipython3",
   "version": "3.7.9"
  }
 },
 "nbformat": 4,
 "nbformat_minor": 4
}
